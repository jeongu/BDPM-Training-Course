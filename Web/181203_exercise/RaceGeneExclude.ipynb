{
 "cells": [
  {
   "cell_type": "code",
   "execution_count": 2,
   "metadata": {},
   "outputs": [],
   "source": [
    "#!/usr/bin/python\n",
    "\n",
    "import sys\n",
    "import glob\n",
    "import os\n",
    "\n",
    "def race_gene_exclude(ex_fasta, fasta_files, output_dir):\n",
    "    exclude_fasta = {}\n",
    "    with open(ex_fasta, \"r\") as f:\n",
    "        for line in f.readlines():\n",
    "            if line[0] == \">\":\n",
    "                key = line[1:-1]\n",
    "            else:\n",
    "                exclude_fasta[key] = line[:-1]\n",
    "\n",
    "    if not os.path.exists(output_dir):\n",
    "        os.makedirs(output_dir)\n",
    "\n",
    "    file_list = glob.glob(fasta_files)\n",
    "    for file in file_list:\n",
    "        example = {}\n",
    "        with open(file, \"r\") as f:\n",
    "            for line in f.readlines():\n",
    "                if line[0] == \">\":\n",
    "                    key = line[1:-1]\n",
    "                else:\n",
    "                    example[key] = line[:-1]\n",
    "\n",
    "        sub_keys = [key for key in example.keys() if key not in exclude_fasta.keys()]\n",
    "        if len(sub_keys) == 0: continue\n",
    "        \n",
    "        save_file = \"/\".join([output_dir, file.split(\"\\\\\")[1]])\n",
    "        with open(save_file, \"w\") as f:\n",
    "            for key in sub_keys:\n",
    "                f.write(\">\"+key+\"\\n\"+example[key]+\"\\n\")\n",
    "    return None\n",
    "\n",
    "if __name__ == \"__main__\":\n",
    "    #ex_fasta = str( sys.argv[1] )\n",
    "    #fasta_files = str( sys.argv[2] )\n",
    "    #output_dir = str( sys.argv[3] )\n",
    "    \n",
    "    ex_fasta = \"exclude.fasta\"\n",
    "    fasta_files = \"1000G.07/*\"\n",
    "    output_dir = \"1000G.07.exclude\"\n",
    "    \n",
    "    race_gene_exclude(ex_fasta, fasta_files, output_dir)"
   ]
  }
 ],
 "metadata": {
  "kernelspec": {
   "display_name": "Python 3",
   "language": "python",
   "name": "python3"
  },
  "language_info": {
   "codemirror_mode": {
    "name": "ipython",
    "version": 3
   },
   "file_extension": ".py",
   "mimetype": "text/x-python",
   "name": "python",
   "nbconvert_exporter": "python",
   "pygments_lexer": "ipython3",
   "version": "3.6.7"
  }
 },
 "nbformat": 4,
 "nbformat_minor": 2
}

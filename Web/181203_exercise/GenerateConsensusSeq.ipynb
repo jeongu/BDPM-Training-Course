{
 "cells": [
  {
   "cell_type": "code",
   "execution_count": null,
   "metadata": {},
   "outputs": [],
   "source": [
    "#!/usr/bin/python\n",
    "\n",
    "import glob\n",
    "import os\n",
    "\n",
    "file_list = glob.glob(\"1000G.07.exclude/*\")\n",
    "for file in file_list:\n",
    "    os.system(\"./usearch --cluster_fast {0} -id 0.95 -consout {0}.cons\".format(file))\n",
    "    \n",
    "file_list = glob.glob(\"1000G.07.exclude/*.cons\")\n",
    "for file in file_list:\n",
    "    seq = []\n",
    "    with open(file, \"r\") as f:\n",
    "        for line in f.readlines():\n",
    "            if line[0] == \">\":\n",
    "                temp = file.split(\"\\\\\")[1]\n",
    "                seq.append(\">\"+\".\".join(temp.split(\".\")[:2])+\"\\n\")\n",
    "            else:\n",
    "                seq.append(line)\n",
    "            \n",
    "    with open(file, \"w\") as f:\n",
    "        for item in seq:\n",
    "            f.write(item)"
   ]
  }
 ],
 "metadata": {
  "kernelspec": {
   "display_name": "Python 3",
   "language": "python",
   "name": "python3"
  },
  "language_info": {
   "codemirror_mode": {
    "name": "ipython",
    "version": 3
   },
   "file_extension": ".py",
   "mimetype": "text/x-python",
   "name": "python",
   "nbconvert_exporter": "python",
   "pygments_lexer": "ipython3",
   "version": "3.6.7"
  }
 },
 "nbformat": 4,
 "nbformat_minor": 2
}

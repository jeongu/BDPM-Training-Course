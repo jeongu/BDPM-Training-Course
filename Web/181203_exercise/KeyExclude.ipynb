{
 "cells": [
  {
   "cell_type": "code",
   "execution_count": 2,
   "metadata": {},
   "outputs": [],
   "source": [
    "#!/usr/bin/python\n",
    "\n",
    "import pandas as pd\n",
    "import sys\n",
    "\n",
    "def key_exclude(fasta_file, fasta_uc_file):\n",
    "    fasta_all = {}\n",
    "    with open(fasta_file, \"r\") as f:\n",
    "        for line in f.readlines():\n",
    "            if line[0] == \">\":\n",
    "                key = line[1:-1]\n",
    "            else:\n",
    "                fasta_all[key] = line[:-1]\n",
    "    \n",
    "    temp = [\"type\", \"cluster\", \"size\", \"pctId\", \"strand\", \"qlo\", \"tlo\", \"alignment\", \"query\", \"target\"]\n",
    "    fasta_uc = pd.read_table(fasta_uc_file, sep=\"\\s\", names=temp, engine='python')\n",
    "    fasta_uc = fasta_uc.loc[fasta_uc.type != \"C\",:]\n",
    "    \n",
    "    temp = fasta_uc.type == \"S\"\n",
    "    temp = fasta_uc.loc[temp,:].index\n",
    "    temp = {temp[i-1] : temp[i] - temp[i-1] for i in range(1, len(temp))}\n",
    "    temp = dict(sorted(temp.items(), key=lambda x: x[1], reverse=True))\n",
    "    candidate = {item[0]:item[1] for item in temp.items() if item[1] > 26}\n",
    "    result = []\n",
    "    \n",
    "    for key in candidate.keys():\n",
    "        cluster = fasta_uc.iloc[key:key+candidate[key],:]\n",
    "        cluster = cluster[\"query\"]\n",
    "        temp = set([item.split(\"_\")[0] for item in cluster[1:]])\n",
    "        if len(temp) >= 26:\n",
    "            for item in cluster[1:]:\n",
    "                result.append(\">\"+item+\"\\n\"+\"\".join(fasta_all[item])+\"\\n\")\n",
    "    return result\n",
    "    \n",
    "if __name__ == \"__main__\":\n",
    "    #fasta_file = str( sys.argv[1] )\n",
    "    #fasta_uc_file = str( sys.argv[2] )\n",
    "    \n",
    "    fasta_file = \"01_ALL.fasta\"\n",
    "    fasta_uc_file = \"01_ALL.fasta.uc\"\n",
    "    \n",
    "    result = key_exclude(fasta_file, fasta_uc_file)\n",
    "    with open(\"exclude.fasta\", \"w\") as f:\n",
    "        for item in result:\n",
    "            f.write(item)"
   ]
  }
 ],
 "metadata": {
  "kernelspec": {
   "display_name": "Python 3",
   "language": "python",
   "name": "python3"
  },
  "language_info": {
   "codemirror_mode": {
    "name": "ipython",
    "version": 3
   },
   "file_extension": ".py",
   "mimetype": "text/x-python",
   "name": "python",
   "nbconvert_exporter": "python",
   "pygments_lexer": "ipython3",
   "version": "3.6.7"
  }
 },
 "nbformat": 4,
 "nbformat_minor": 2
}

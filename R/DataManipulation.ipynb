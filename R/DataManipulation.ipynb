{
 "cells": [
  {
   "cell_type": "markdown",
   "metadata": {},
   "source": [
    "# basic functions"
   ]
  },
  {
   "cell_type": "markdown",
   "metadata": {},
   "source": [
    "### order using more than two columns\n",
    "- sort rows with 1st col and then sort with 2nd col"
   ]
  },
  {
   "cell_type": "code",
   "execution_count": null,
   "metadata": {},
   "outputs": [],
   "source": [
    "my_frame_num[order(my_frame_num[,2], -my_frame_num[,3]),]"
   ]
  },
  {
   "cell_type": "markdown",
   "metadata": {},
   "source": [
    "### rosSums & colSums"
   ]
  },
  {
   "cell_type": "code",
   "execution_count": null,
   "metadata": {},
   "outputs": [],
   "source": [
    "temp <- matrix(seq(1:10), 2, 5)\n",
    "rowSums(temp)\n",
    "colSums(temp)"
   ]
  },
  {
   "cell_type": "markdown",
   "metadata": {},
   "source": [
    "### combn function"
   ]
  },
  {
   "cell_type": "code",
   "execution_count": null,
   "metadata": {},
   "outputs": [],
   "source": [
    "labels <- paste(\"Sample\", 1:5, sep=\"\")\n",
    "combn(labels, m=2, FUN=paste, collapse=\"-\")"
   ]
  },
  {
   "cell_type": "markdown",
   "metadata": {},
   "source": [
    "### aggregate function"
   ]
  },
  {
   "cell_type": "code",
   "execution_count": null,
   "metadata": {},
   "outputs": [],
   "source": [
    "aggregate(iris[,1:4], by=list(iris$Species), FUN=mean, na.rm=T)"
   ]
  },
  {
   "cell_type": "markdown",
   "metadata": {},
   "source": [
    "### missing function\n",
    "- 'missing()' is used to test whether a value was specified as an argument\n",
    "- like 'None idea' in Python"
   ]
  },
  {
   "cell_type": "code",
   "execution_count": null,
   "metadata": {},
   "outputs": [],
   "source": [
    "myfct2 <- function(x1=5, opt_arg) {\n",
    "if(missing(opt_arg)) { \n",
    "  z1 <- 1:10 \n",
    "} else {\n",
    "  z1 <- opt_arg \n",
    "}   \n",
    "cat(\"my function returns:\", \"\\n\")\n",
    "return(z1/x1)\n",
    "}"
   ]
  },
  {
   "cell_type": "markdown",
   "metadata": {},
   "source": [
    "### stop and warning"
   ]
  },
  {
   "cell_type": "code",
   "execution_count": null,
   "metadata": {},
   "outputs": [],
   "source": [
    "myfct <- function(x1) {\n",
    "if (x1>=0) print(x1) else stop(\"This function did not finish, because x1 < 0\")\n",
    "warning(\"Value needs to be > 0\")\n",
    "}\n",
    "myfct(x1=2)"
   ]
  },
  {
   "cell_type": "markdown",
   "metadata": {},
   "source": [
    "# dplyr"
   ]
  },
  {
   "cell_type": "code",
   "execution_count": 5,
   "metadata": {},
   "outputs": [
    {
     "name": "stderr",
     "output_type": "stream",
     "text": [
      "\n",
      "Attaching package: 'dplyr'\n",
      "\n",
      "The following objects are masked from 'package:stats':\n",
      "\n",
      "    filter, lag\n",
      "\n",
      "The following objects are masked from 'package:base':\n",
      "\n",
      "    intersect, setdiff, setequal, union\n",
      "\n"
     ]
    }
   ],
   "source": [
    "library(dplyr)"
   ]
  },
  {
   "cell_type": "markdown",
   "metadata": {},
   "source": [
    "### summarise"
   ]
  },
  {
   "cell_type": "code",
   "execution_count": 9,
   "metadata": {},
   "outputs": [
    {
     "data": {
      "text/html": [
       "<table>\n",
       "<thead><tr><th scope=col>mpg_mean</th></tr></thead>\n",
       "<tbody>\n",
       "\t<tr><td>20.09062</td></tr>\n",
       "</tbody>\n",
       "</table>\n"
      ],
      "text/latex": [
       "\\begin{tabular}{r|l}\n",
       " mpg\\_mean\\\\\n",
       "\\hline\n",
       "\t 20.09062\\\\\n",
       "\\end{tabular}\n"
      ],
      "text/markdown": [
       "\n",
       "mpg_mean | \n",
       "|---|\n",
       "| 20.09062 | \n",
       "\n",
       "\n"
      ],
      "text/plain": [
       "  mpg_mean\n",
       "1 20.09062"
      ]
     },
     "metadata": {},
     "output_type": "display_data"
    }
   ],
   "source": [
    "summarise(mtcars, mpg_mean=mean(mpg))"
   ]
  },
  {
   "cell_type": "code",
   "execution_count": 10,
   "metadata": {},
   "outputs": [
    {
     "data": {
      "text/html": [
       "<table>\n",
       "<thead><tr><th scope=col>mpg</th><th scope=col>cyl</th><th scope=col>disp</th><th scope=col>hp</th><th scope=col>drat</th><th scope=col>wt</th><th scope=col>qsec</th><th scope=col>vs</th><th scope=col>am</th><th scope=col>gear</th><th scope=col>carb</th></tr></thead>\n",
       "<tbody>\n",
       "\t<tr><td>20.09062</td><td>6.1875  </td><td>230.7219</td><td>146.6875</td><td>3.596563</td><td>3.21725 </td><td>17.84875</td><td>0.4375  </td><td>0.40625 </td><td>3.6875  </td><td>2.8125  </td></tr>\n",
       "</tbody>\n",
       "</table>\n"
      ],
      "text/latex": [
       "\\begin{tabular}{r|lllllllllll}\n",
       " mpg & cyl & disp & hp & drat & wt & qsec & vs & am & gear & carb\\\\\n",
       "\\hline\n",
       "\t 20.09062 & 6.1875   & 230.7219 & 146.6875 & 3.596563 & 3.21725  & 17.84875 & 0.4375   & 0.40625  & 3.6875   & 2.8125  \\\\\n",
       "\\end{tabular}\n"
      ],
      "text/markdown": [
       "\n",
       "mpg | cyl | disp | hp | drat | wt | qsec | vs | am | gear | carb | \n",
       "|---|\n",
       "| 20.09062 | 6.1875   | 230.7219 | 146.6875 | 3.596563 | 3.21725  | 17.84875 | 0.4375   | 0.40625  | 3.6875   | 2.8125   | \n",
       "\n",
       "\n"
      ],
      "text/plain": [
       "  mpg      cyl    disp     hp       drat     wt      qsec     vs     am     \n",
       "1 20.09062 6.1875 230.7219 146.6875 3.596563 3.21725 17.84875 0.4375 0.40625\n",
       "  gear   carb  \n",
       "1 3.6875 2.8125"
      ]
     },
     "metadata": {},
     "output_type": "display_data"
    }
   ],
   "source": [
    "summarise_all(mtcars, mean,  na.rm=T)"
   ]
  },
  {
   "cell_type": "code",
   "execution_count": 11,
   "metadata": {},
   "outputs": [
    {
     "data": {
      "text/html": [
       "<table>\n",
       "<thead><tr><th scope=col>mpg_min</th><th scope=col>cyl_min</th><th scope=col>disp_min</th><th scope=col>hp_min</th><th scope=col>drat_min</th><th scope=col>wt_min</th><th scope=col>qsec_min</th><th scope=col>vs_min</th><th scope=col>am_min</th><th scope=col>gear_min</th><th scope=col>...</th><th scope=col>cyl_max</th><th scope=col>disp_max</th><th scope=col>hp_max</th><th scope=col>drat_max</th><th scope=col>wt_max</th><th scope=col>qsec_max</th><th scope=col>vs_max</th><th scope=col>am_max</th><th scope=col>gear_max</th><th scope=col>carb_max</th></tr></thead>\n",
       "<tbody>\n",
       "\t<tr><td>10.4 </td><td>4    </td><td>71.1 </td><td>52   </td><td>2.76 </td><td>1.513</td><td>14.5 </td><td>0    </td><td>0    </td><td>3    </td><td>...  </td><td>8    </td><td>472  </td><td>335  </td><td>4.93 </td><td>5.424</td><td>22.9 </td><td>1    </td><td>1    </td><td>5    </td><td>8    </td></tr>\n",
       "</tbody>\n",
       "</table>\n"
      ],
      "text/latex": [
       "\\begin{tabular}{r|llllllllllllllllllllll}\n",
       " mpg\\_min & cyl\\_min & disp\\_min & hp\\_min & drat\\_min & wt\\_min & qsec\\_min & vs\\_min & am\\_min & gear\\_min & ... & cyl\\_max & disp\\_max & hp\\_max & drat\\_max & wt\\_max & qsec\\_max & vs\\_max & am\\_max & gear\\_max & carb\\_max\\\\\n",
       "\\hline\n",
       "\t 10.4  & 4     & 71.1  & 52    & 2.76  & 1.513 & 14.5  & 0     & 0     & 3     & ...   & 8     & 472   & 335   & 4.93  & 5.424 & 22.9  & 1     & 1     & 5     & 8    \\\\\n",
       "\\end{tabular}\n"
      ],
      "text/markdown": [
       "\n",
       "mpg_min | cyl_min | disp_min | hp_min | drat_min | wt_min | qsec_min | vs_min | am_min | gear_min | ... | cyl_max | disp_max | hp_max | drat_max | wt_max | qsec_max | vs_max | am_max | gear_max | carb_max | \n",
       "|---|\n",
       "| 10.4  | 4     | 71.1  | 52    | 2.76  | 1.513 | 14.5  | 0     | 0     | 3     | ...   | 8     | 472   | 335   | 4.93  | 5.424 | 22.9  | 1     | 1     | 5     | 8     | \n",
       "\n",
       "\n"
      ],
      "text/plain": [
       "  mpg_min cyl_min disp_min hp_min drat_min wt_min qsec_min vs_min am_min\n",
       "1 10.4    4       71.1     52     2.76     1.513  14.5     0      0     \n",
       "  gear_min ... cyl_max disp_max hp_max drat_max wt_max qsec_max vs_max am_max\n",
       "1 3        ... 8       472      335    4.93     5.424  22.9     1      1     \n",
       "  gear_max carb_max\n",
       "1 5        8       "
      ]
     },
     "metadata": {},
     "output_type": "display_data"
    }
   ],
   "source": [
    "summarise_all(mtcars, c(\"min\", \"max\"))"
   ]
  },
  {
   "cell_type": "code",
   "execution_count": 12,
   "metadata": {},
   "outputs": [
    {
     "data": {
      "text/html": [
       "<table>\n",
       "<thead><tr><th scope=col>mpg_mean</th><th scope=col>cyl_mean</th><th scope=col>disp_mean</th><th scope=col>hp_mean</th><th scope=col>drat_mean</th><th scope=col>wt_mean</th><th scope=col>qsec_mean</th><th scope=col>vs_mean</th><th scope=col>am_mean</th><th scope=col>gear_mean</th><th scope=col>...</th><th scope=col>cyl_max</th><th scope=col>disp_max</th><th scope=col>hp_max</th><th scope=col>drat_max</th><th scope=col>wt_max</th><th scope=col>qsec_max</th><th scope=col>vs_max</th><th scope=col>am_max</th><th scope=col>gear_max</th><th scope=col>carb_max</th></tr></thead>\n",
       "<tbody>\n",
       "\t<tr><td>20.09062</td><td>6.1875  </td><td>230.7219</td><td>146.6875</td><td>3.596563</td><td>3.21725 </td><td>17.84875</td><td>0.4375  </td><td>0.40625 </td><td>3.6875  </td><td>...     </td><td>8       </td><td>472     </td><td>335     </td><td>4.93    </td><td>5.424   </td><td>22.9    </td><td>1       </td><td>1       </td><td>5       </td><td>8       </td></tr>\n",
       "</tbody>\n",
       "</table>\n"
      ],
      "text/latex": [
       "\\begin{tabular}{r|llllllllllllllllllllll}\n",
       " mpg\\_mean & cyl\\_mean & disp\\_mean & hp\\_mean & drat\\_mean & wt\\_mean & qsec\\_mean & vs\\_mean & am\\_mean & gear\\_mean & ... & cyl\\_max & disp\\_max & hp\\_max & drat\\_max & wt\\_max & qsec\\_max & vs\\_max & am\\_max & gear\\_max & carb\\_max\\\\\n",
       "\\hline\n",
       "\t 20.09062 & 6.1875   & 230.7219 & 146.6875 & 3.596563 & 3.21725  & 17.84875 & 0.4375   & 0.40625  & 3.6875   & ...      & 8        & 472      & 335      & 4.93     & 5.424    & 22.9     & 1        & 1        & 5        & 8       \\\\\n",
       "\\end{tabular}\n"
      ],
      "text/markdown": [
       "\n",
       "mpg_mean | cyl_mean | disp_mean | hp_mean | drat_mean | wt_mean | qsec_mean | vs_mean | am_mean | gear_mean | ... | cyl_max | disp_max | hp_max | drat_max | wt_max | qsec_max | vs_max | am_max | gear_max | carb_max | \n",
       "|---|\n",
       "| 20.09062 | 6.1875   | 230.7219 | 146.6875 | 3.596563 | 3.21725  | 17.84875 | 0.4375   | 0.40625  | 3.6875   | ...      | 8        | 472      | 335      | 4.93     | 5.424    | 22.9     | 1        | 1        | 5        | 8        | \n",
       "\n",
       "\n"
      ],
      "text/plain": [
       "  mpg_mean cyl_mean disp_mean hp_mean  drat_mean wt_mean qsec_mean vs_mean\n",
       "1 20.09062 6.1875   230.7219  146.6875 3.596563  3.21725 17.84875  0.4375 \n",
       "  am_mean gear_mean ... cyl_max disp_max hp_max drat_max wt_max qsec_max vs_max\n",
       "1 0.40625 3.6875    ... 8       472      335    4.93     5.424  22.9     1     \n",
       "  am_max gear_max carb_max\n",
       "1 1      5        8       "
      ]
     },
     "metadata": {},
     "output_type": "display_data"
    }
   ],
   "source": [
    "summarise_all(mtcars, funs(mean=mean(., na.rm=T), max=max(., na.rm=T)))"
   ]
  },
  {
   "cell_type": "code",
   "execution_count": 13,
   "metadata": {},
   "outputs": [
    {
     "data": {
      "text/html": [
       "<table>\n",
       "<thead><tr><th scope=col>Sepal.Width</th><th scope=col>Petal.Width</th></tr></thead>\n",
       "<tbody>\n",
       "\t<tr><td>3.057333</td><td>1.199333</td></tr>\n",
       "</tbody>\n",
       "</table>\n"
      ],
      "text/latex": [
       "\\begin{tabular}{r|ll}\n",
       " Sepal.Width & Petal.Width\\\\\n",
       "\\hline\n",
       "\t 3.057333 & 1.199333\\\\\n",
       "\\end{tabular}\n"
      ],
      "text/markdown": [
       "\n",
       "Sepal.Width | Petal.Width | \n",
       "|---|\n",
       "| 3.057333 | 1.199333 | \n",
       "\n",
       "\n"
      ],
      "text/plain": [
       "  Sepal.Width Petal.Width\n",
       "1 3.057333    1.199333   "
      ]
     },
     "metadata": {},
     "output_type": "display_data"
    }
   ],
   "source": [
    "summarise_at(iris, c(\"Sepal.Width\", \"Petal.Width\"), mean)"
   ]
  },
  {
   "cell_type": "code",
   "execution_count": 6,
   "metadata": {
    "scrolled": true
   },
   "outputs": [
    {
     "data": {
      "text/html": [
       "<table>\n",
       "<thead><tr><th scope=col>Petal.Width</th></tr></thead>\n",
       "<tbody>\n",
       "\t<tr><td>1.3</td></tr>\n",
       "</tbody>\n",
       "</table>\n"
      ],
      "text/latex": [
       "\\begin{tabular}{r|l}\n",
       " Petal.Width\\\\\n",
       "\\hline\n",
       "\t 1.3\\\\\n",
       "\\end{tabular}\n"
      ],
      "text/markdown": [
       "\n",
       "Petal.Width | \n",
       "|---|\n",
       "| 1.3 | \n",
       "\n",
       "\n"
      ],
      "text/plain": [
       "  Petal.Width\n",
       "1 1.3        "
      ]
     },
     "metadata": {},
     "output_type": "display_data"
    }
   ],
   "source": [
    "summarise_at(iris, vars(Petal.Width), mean, trim = 1)"
   ]
  },
  {
   "cell_type": "code",
   "execution_count": 14,
   "metadata": {},
   "outputs": [
    {
     "data": {
      "text/html": [
       "<table>\n",
       "<thead><tr><th scope=col>Petal.Width</th></tr></thead>\n",
       "<tbody>\n",
       "\t<tr><td>1.199333</td></tr>\n",
       "</tbody>\n",
       "</table>\n"
      ],
      "text/latex": [
       "\\begin{tabular}{r|l}\n",
       " Petal.Width\\\\\n",
       "\\hline\n",
       "\t 1.199333\\\\\n",
       "\\end{tabular}\n"
      ],
      "text/markdown": [
       "\n",
       "Petal.Width | \n",
       "|---|\n",
       "| 1.199333 | \n",
       "\n",
       "\n"
      ],
      "text/plain": [
       "  Petal.Width\n",
       "1 1.199333   "
      ]
     },
     "metadata": {},
     "output_type": "display_data"
    }
   ],
   "source": [
    "summarise_at(iris, vars(Petal.Width), mean)"
   ]
  },
  {
   "cell_type": "code",
   "execution_count": 15,
   "metadata": {},
   "outputs": [
    {
     "data": {
      "text/html": [
       "<table>\n",
       "<thead><tr><th scope=col>Petal.Width_min</th><th scope=col>Sepal.Width_min</th><th scope=col>Petal.Width_max</th><th scope=col>Sepal.Width_max</th></tr></thead>\n",
       "<tbody>\n",
       "\t<tr><td>0.1</td><td>2  </td><td>2.5</td><td>4.4</td></tr>\n",
       "</tbody>\n",
       "</table>\n"
      ],
      "text/latex": [
       "\\begin{tabular}{r|llll}\n",
       " Petal.Width\\_min & Sepal.Width\\_min & Petal.Width\\_max & Sepal.Width\\_max\\\\\n",
       "\\hline\n",
       "\t 0.1 & 2   & 2.5 & 4.4\\\\\n",
       "\\end{tabular}\n"
      ],
      "text/markdown": [
       "\n",
       "Petal.Width_min | Sepal.Width_min | Petal.Width_max | Sepal.Width_max | \n",
       "|---|\n",
       "| 0.1 | 2   | 2.5 | 4.4 | \n",
       "\n",
       "\n"
      ],
      "text/plain": [
       "  Petal.Width_min Sepal.Width_min Petal.Width_max Sepal.Width_max\n",
       "1 0.1             2               2.5             4.4            "
      ]
     },
     "metadata": {},
     "output_type": "display_data"
    }
   ],
   "source": [
    "summarise_at(iris, vars(Petal.Width, Sepal.Width), funs(min, max))"
   ]
  },
  {
   "cell_type": "code",
   "execution_count": 16,
   "metadata": {},
   "outputs": [
    {
     "data": {
      "text/html": [
       "<table>\n",
       "<thead><tr><th scope=col>Petal.Width_mean</th><th scope=col>Sepal.Width_mean</th><th scope=col>Petal.Width_max</th><th scope=col>Sepal.Width_max</th></tr></thead>\n",
       "<tbody>\n",
       "\t<tr><td>1.199333</td><td>3.057333</td><td>2.5     </td><td>4.4     </td></tr>\n",
       "</tbody>\n",
       "</table>\n"
      ],
      "text/latex": [
       "\\begin{tabular}{r|llll}\n",
       " Petal.Width\\_mean & Sepal.Width\\_mean & Petal.Width\\_max & Sepal.Width\\_max\\\\\n",
       "\\hline\n",
       "\t 1.199333 & 3.057333 & 2.5      & 4.4     \\\\\n",
       "\\end{tabular}\n"
      ],
      "text/markdown": [
       "\n",
       "Petal.Width_mean | Sepal.Width_mean | Petal.Width_max | Sepal.Width_max | \n",
       "|---|\n",
       "| 1.199333 | 3.057333 | 2.5      | 4.4      | \n",
       "\n",
       "\n"
      ],
      "text/plain": [
       "  Petal.Width_mean Sepal.Width_mean Petal.Width_max Sepal.Width_max\n",
       "1 1.199333         3.057333         2.5             4.4            "
      ]
     },
     "metadata": {},
     "output_type": "display_data"
    }
   ],
   "source": [
    "summarise_at(iris, vars(Petal.Width, Sepal.Width), funs(mean=mean(., na.rm=T), max=max(., na.rm=T)))"
   ]
  },
  {
   "cell_type": "code",
   "execution_count": 17,
   "metadata": {},
   "outputs": [
    {
     "data": {
      "text/html": [
       "<table>\n",
       "<thead><tr><th scope=col>Sepal.Length</th><th scope=col>Sepal.Width</th><th scope=col>Petal.Length</th><th scope=col>Petal.Width</th></tr></thead>\n",
       "<tbody>\n",
       "\t<tr><td>5.843333</td><td>3.057333</td><td>3.758   </td><td>1.199333</td></tr>\n",
       "</tbody>\n",
       "</table>\n"
      ],
      "text/latex": [
       "\\begin{tabular}{r|llll}\n",
       " Sepal.Length & Sepal.Width & Petal.Length & Petal.Width\\\\\n",
       "\\hline\n",
       "\t 5.843333 & 3.057333 & 3.758    & 1.199333\\\\\n",
       "\\end{tabular}\n"
      ],
      "text/markdown": [
       "\n",
       "Sepal.Length | Sepal.Width | Petal.Length | Petal.Width | \n",
       "|---|\n",
       "| 5.843333 | 3.057333 | 3.758    | 1.199333 | \n",
       "\n",
       "\n"
      ],
      "text/plain": [
       "  Sepal.Length Sepal.Width Petal.Length Petal.Width\n",
       "1 5.843333     3.057333    3.758        1.199333   "
      ]
     },
     "metadata": {},
     "output_type": "display_data"
    }
   ],
   "source": [
    "summarise_if(iris,  is.numeric, mean )"
   ]
  },
  {
   "cell_type": "markdown",
   "metadata": {},
   "source": [
    "### group_by"
   ]
  },
  {
   "cell_type": "code",
   "execution_count": 19,
   "metadata": {},
   "outputs": [
    {
     "data": {
      "text/html": [
       "<table>\n",
       "<thead><tr><th scope=col>Species</th><th scope=col>Sepal.Length</th><th scope=col>Sepal.Width</th><th scope=col>Petal.Length</th><th scope=col>Petal.Width</th></tr></thead>\n",
       "<tbody>\n",
       "\t<tr><td>setosa    </td><td>5.006     </td><td>3.428     </td><td>1.462     </td><td>0.246     </td></tr>\n",
       "\t<tr><td>versicolor</td><td>5.936     </td><td>2.770     </td><td>4.260     </td><td>1.326     </td></tr>\n",
       "\t<tr><td>virginica </td><td>6.588     </td><td>2.974     </td><td>5.552     </td><td>2.026     </td></tr>\n",
       "</tbody>\n",
       "</table>\n"
      ],
      "text/latex": [
       "\\begin{tabular}{r|lllll}\n",
       " Species & Sepal.Length & Sepal.Width & Petal.Length & Petal.Width\\\\\n",
       "\\hline\n",
       "\t setosa     & 5.006      & 3.428      & 1.462      & 0.246     \\\\\n",
       "\t versicolor & 5.936      & 2.770      & 4.260      & 1.326     \\\\\n",
       "\t virginica  & 6.588      & 2.974      & 5.552      & 2.026     \\\\\n",
       "\\end{tabular}\n"
      ],
      "text/markdown": [
       "\n",
       "Species | Sepal.Length | Sepal.Width | Petal.Length | Petal.Width | \n",
       "|---|---|---|\n",
       "| setosa     | 5.006      | 3.428      | 1.462      | 0.246      | \n",
       "| versicolor | 5.936      | 2.770      | 4.260      | 1.326      | \n",
       "| virginica  | 6.588      | 2.974      | 5.552      | 2.026      | \n",
       "\n",
       "\n"
      ],
      "text/plain": [
       "  Species    Sepal.Length Sepal.Width Petal.Length Petal.Width\n",
       "1 setosa     5.006        3.428       1.462        0.246      \n",
       "2 versicolor 5.936        2.770       4.260        1.326      \n",
       "3 virginica  6.588        2.974       5.552        2.026      "
      ]
     },
     "metadata": {},
     "output_type": "display_data"
    }
   ],
   "source": [
    "iris %>% group_by(Species) %>% summarise_all(mean)"
   ]
  },
  {
   "cell_type": "markdown",
   "metadata": {},
   "source": [
    "### n & tally & count"
   ]
  },
  {
   "cell_type": "code",
   "execution_count": 21,
   "metadata": {},
   "outputs": [
    {
     "data": {
      "text/html": [
       "<table>\n",
       "<thead><tr><th scope=col>Species</th><th scope=col>cnt</th></tr></thead>\n",
       "<tbody>\n",
       "\t<tr><td>setosa    </td><td>50        </td></tr>\n",
       "\t<tr><td>versicolor</td><td>50        </td></tr>\n",
       "\t<tr><td>virginica </td><td>50        </td></tr>\n",
       "</tbody>\n",
       "</table>\n"
      ],
      "text/latex": [
       "\\begin{tabular}{r|ll}\n",
       " Species & cnt\\\\\n",
       "\\hline\n",
       "\t setosa     & 50        \\\\\n",
       "\t versicolor & 50        \\\\\n",
       "\t virginica  & 50        \\\\\n",
       "\\end{tabular}\n"
      ],
      "text/markdown": [
       "\n",
       "Species | cnt | \n",
       "|---|---|---|\n",
       "| setosa     | 50         | \n",
       "| versicolor | 50         | \n",
       "| virginica  | 50         | \n",
       "\n",
       "\n"
      ],
      "text/plain": [
       "  Species    cnt\n",
       "1 setosa     50 \n",
       "2 versicolor 50 \n",
       "3 virginica  50 "
      ]
     },
     "metadata": {},
     "output_type": "display_data"
    }
   ],
   "source": [
    "iris %>% group_by(Species) %>% summarise(cnt=n())"
   ]
  },
  {
   "cell_type": "code",
   "execution_count": 22,
   "metadata": {},
   "outputs": [
    {
     "data": {
      "text/html": [
       "<table>\n",
       "<thead><tr><th scope=col>n</th></tr></thead>\n",
       "<tbody>\n",
       "\t<tr><td>32</td></tr>\n",
       "</tbody>\n",
       "</table>\n"
      ],
      "text/latex": [
       "\\begin{tabular}{r|l}\n",
       " n\\\\\n",
       "\\hline\n",
       "\t 32\\\\\n",
       "\\end{tabular}\n"
      ],
      "text/markdown": [
       "\n",
       "n | \n",
       "|---|\n",
       "| 32 | \n",
       "\n",
       "\n"
      ],
      "text/plain": [
       "  n \n",
       "1 32"
      ]
     },
     "metadata": {},
     "output_type": "display_data"
    }
   ],
   "source": [
    "# tally() is short-hand for summarise()\n",
    "tally(mtcars)"
   ]
  },
  {
   "cell_type": "code",
   "execution_count": 24,
   "metadata": {},
   "outputs": [
    {
     "data": {
      "text/html": [
       "<table>\n",
       "<thead><tr><th scope=col>cyl</th><th scope=col>n</th></tr></thead>\n",
       "<tbody>\n",
       "\t<tr><td>4 </td><td>11</td></tr>\n",
       "\t<tr><td>6 </td><td> 7</td></tr>\n",
       "\t<tr><td>8 </td><td>14</td></tr>\n",
       "</tbody>\n",
       "</table>\n"
      ],
      "text/latex": [
       "\\begin{tabular}{r|ll}\n",
       " cyl & n\\\\\n",
       "\\hline\n",
       "\t 4  & 11\\\\\n",
       "\t 6  &  7\\\\\n",
       "\t 8  & 14\\\\\n",
       "\\end{tabular}\n"
      ],
      "text/markdown": [
       "\n",
       "cyl | n | \n",
       "|---|---|---|\n",
       "| 4  | 11 | \n",
       "| 6  |  7 | \n",
       "| 8  | 14 | \n",
       "\n",
       "\n"
      ],
      "text/plain": [
       "  cyl n \n",
       "1 4   11\n",
       "2 6    7\n",
       "3 8   14"
      ]
     },
     "metadata": {},
     "output_type": "display_data"
    }
   ],
   "source": [
    "mtcars %>% group_by(cyl) %>% tally()"
   ]
  },
  {
   "cell_type": "code",
   "execution_count": 25,
   "metadata": {},
   "outputs": [
    {
     "data": {
      "text/html": [
       "<table>\n",
       "<thead><tr><th scope=col>cyl</th><th scope=col>n</th></tr></thead>\n",
       "<tbody>\n",
       "\t<tr><td>8 </td><td>14</td></tr>\n",
       "\t<tr><td>4 </td><td>11</td></tr>\n",
       "\t<tr><td>6 </td><td> 7</td></tr>\n",
       "</tbody>\n",
       "</table>\n"
      ],
      "text/latex": [
       "\\begin{tabular}{r|ll}\n",
       " cyl & n\\\\\n",
       "\\hline\n",
       "\t 8  & 14\\\\\n",
       "\t 4  & 11\\\\\n",
       "\t 6  &  7\\\\\n",
       "\\end{tabular}\n"
      ],
      "text/markdown": [
       "\n",
       "cyl | n | \n",
       "|---|---|---|\n",
       "| 8  | 14 | \n",
       "| 4  | 11 | \n",
       "| 6  |  7 | \n",
       "\n",
       "\n"
      ],
      "text/plain": [
       "  cyl n \n",
       "1 8   14\n",
       "2 4   11\n",
       "3 6    7"
      ]
     },
     "metadata": {},
     "output_type": "display_data"
    }
   ],
   "source": [
    "# count() is a short-hand for group_by() + tally()\n",
    "mtcars %>% count(cyl, sort=TRUE)"
   ]
  },
  {
   "cell_type": "markdown",
   "metadata": {},
   "source": [
    "### select"
   ]
  },
  {
   "cell_type": "code",
   "execution_count": 45,
   "metadata": {},
   "outputs": [
    {
     "data": {
      "text/html": [
       "<table>\n",
       "<thead><tr><th scope=col>Sepal.Length</th><th scope=col>Species</th></tr></thead>\n",
       "<tbody>\n",
       "\t<tr><td>5.1   </td><td>setosa</td></tr>\n",
       "\t<tr><td>4.9   </td><td>setosa</td></tr>\n",
       "\t<tr><td>4.7   </td><td>setosa</td></tr>\n",
       "\t<tr><td>4.6   </td><td>setosa</td></tr>\n",
       "\t<tr><td>5.0   </td><td>setosa</td></tr>\n",
       "\t<tr><td>5.4   </td><td>setosa</td></tr>\n",
       "</tbody>\n",
       "</table>\n"
      ],
      "text/latex": [
       "\\begin{tabular}{r|ll}\n",
       " Sepal.Length & Species\\\\\n",
       "\\hline\n",
       "\t 5.1    & setosa\\\\\n",
       "\t 4.9    & setosa\\\\\n",
       "\t 4.7    & setosa\\\\\n",
       "\t 4.6    & setosa\\\\\n",
       "\t 5.0    & setosa\\\\\n",
       "\t 5.4    & setosa\\\\\n",
       "\\end{tabular}\n"
      ],
      "text/markdown": [
       "\n",
       "Sepal.Length | Species | \n",
       "|---|---|---|---|---|---|\n",
       "| 5.1    | setosa | \n",
       "| 4.9    | setosa | \n",
       "| 4.7    | setosa | \n",
       "| 4.6    | setosa | \n",
       "| 5.0    | setosa | \n",
       "| 5.4    | setosa | \n",
       "\n",
       "\n"
      ],
      "text/plain": [
       "  Sepal.Length Species\n",
       "1 5.1          setosa \n",
       "2 4.9          setosa \n",
       "3 4.7          setosa \n",
       "4 4.6          setosa \n",
       "5 5.0          setosa \n",
       "6 5.4          setosa "
      ]
     },
     "metadata": {},
     "output_type": "display_data"
    }
   ],
   "source": [
    "iris %>% select(Sepal.Length, Species) %>% head"
   ]
  },
  {
   "cell_type": "code",
   "execution_count": 46,
   "metadata": {},
   "outputs": [
    {
     "data": {
      "text/html": [
       "<table>\n",
       "<thead><tr><th scope=col>Sepal.Length</th><th scope=col>Sepal.Width</th></tr></thead>\n",
       "<tbody>\n",
       "\t<tr><td>5.1</td><td>3.5</td></tr>\n",
       "</tbody>\n",
       "</table>\n"
      ],
      "text/latex": [
       "\\begin{tabular}{r|ll}\n",
       " Sepal.Length & Sepal.Width\\\\\n",
       "\\hline\n",
       "\t 5.1 & 3.5\\\\\n",
       "\\end{tabular}\n"
      ],
      "text/markdown": [
       "\n",
       "Sepal.Length | Sepal.Width | \n",
       "|---|\n",
       "| 5.1 | 3.5 | \n",
       "\n",
       "\n"
      ],
      "text/plain": [
       "  Sepal.Length Sepal.Width\n",
       "1 5.1          3.5        "
      ]
     },
     "metadata": {},
     "output_type": "display_data"
    }
   ],
   "source": [
    "select(iris, starts_with(\"Sepal\")) %>% head(1)"
   ]
  },
  {
   "cell_type": "code",
   "execution_count": 47,
   "metadata": {},
   "outputs": [
    {
     "data": {
      "text/html": [
       "<table>\n",
       "<thead><tr><th scope=col>Sepal.Width</th><th scope=col>Petal.Width</th></tr></thead>\n",
       "<tbody>\n",
       "\t<tr><td>3.5</td><td>0.2</td></tr>\n",
       "</tbody>\n",
       "</table>\n"
      ],
      "text/latex": [
       "\\begin{tabular}{r|ll}\n",
       " Sepal.Width & Petal.Width\\\\\n",
       "\\hline\n",
       "\t 3.5 & 0.2\\\\\n",
       "\\end{tabular}\n"
      ],
      "text/markdown": [
       "\n",
       "Sepal.Width | Petal.Width | \n",
       "|---|\n",
       "| 3.5 | 0.2 | \n",
       "\n",
       "\n"
      ],
      "text/plain": [
       "  Sepal.Width Petal.Width\n",
       "1 3.5         0.2        "
      ]
     },
     "metadata": {},
     "output_type": "display_data"
    }
   ],
   "source": [
    "select(iris, ends_with(\"Width\")) %>% head(1)"
   ]
  },
  {
   "cell_type": "code",
   "execution_count": 48,
   "metadata": {},
   "outputs": [
    {
     "data": {
      "text/html": [
       "<table>\n",
       "<thead><tr><th scope=col>Sepal.Length</th><th scope=col>Petal.Length</th></tr></thead>\n",
       "<tbody>\n",
       "\t<tr><td>5.1</td><td>1.4</td></tr>\n",
       "</tbody>\n",
       "</table>\n"
      ],
      "text/latex": [
       "\\begin{tabular}{r|ll}\n",
       " Sepal.Length & Petal.Length\\\\\n",
       "\\hline\n",
       "\t 5.1 & 1.4\\\\\n",
       "\\end{tabular}\n"
      ],
      "text/markdown": [
       "\n",
       "Sepal.Length | Petal.Length | \n",
       "|---|\n",
       "| 5.1 | 1.4 | \n",
       "\n",
       "\n"
      ],
      "text/plain": [
       "  Sepal.Length Petal.Length\n",
       "1 5.1          1.4         "
      ]
     },
     "metadata": {},
     "output_type": "display_data"
    }
   ],
   "source": [
    "select(iris, contains(\"Length\")) %>% head(1)"
   ]
  },
  {
   "cell_type": "code",
   "execution_count": 49,
   "metadata": {},
   "outputs": [
    {
     "data": {
      "text/html": [
       "<table>\n",
       "<thead><tr><th scope=col>Petal.Length</th><th scope=col>Petal.Width</th><th scope=col>Species</th></tr></thead>\n",
       "<tbody>\n",
       "\t<tr><td>1.4   </td><td>0.2   </td><td>setosa</td></tr>\n",
       "</tbody>\n",
       "</table>\n"
      ],
      "text/latex": [
       "\\begin{tabular}{r|lll}\n",
       " Petal.Length & Petal.Width & Species\\\\\n",
       "\\hline\n",
       "\t 1.4    & 0.2    & setosa\\\\\n",
       "\\end{tabular}\n"
      ],
      "text/markdown": [
       "\n",
       "Petal.Length | Petal.Width | Species | \n",
       "|---|\n",
       "| 1.4    | 0.2    | setosa | \n",
       "\n",
       "\n"
      ],
      "text/plain": [
       "  Petal.Length Petal.Width Species\n",
       "1 1.4          0.2         setosa "
      ]
     },
     "metadata": {},
     "output_type": "display_data"
    }
   ],
   "source": [
    "# you can select columns continuously by name\n",
    "select(iris, Petal.Length:Species ) %>% head(1)"
   ]
  },
  {
   "cell_type": "code",
   "execution_count": 50,
   "metadata": {},
   "outputs": [
    {
     "data": {
      "text/html": [
       "<table>\n",
       "<thead><tr><th scope=col>Sepal.Length</th><th scope=col>Sepal.Width</th><th scope=col>Petal.Length</th><th scope=col>Petal.Width</th></tr></thead>\n",
       "<tbody>\n",
       "\t<tr><td>5.1</td><td>3.5</td><td>1.4</td><td>0.2</td></tr>\n",
       "</tbody>\n",
       "</table>\n"
      ],
      "text/latex": [
       "\\begin{tabular}{r|llll}\n",
       " Sepal.Length & Sepal.Width & Petal.Length & Petal.Width\\\\\n",
       "\\hline\n",
       "\t 5.1 & 3.5 & 1.4 & 0.2\\\\\n",
       "\\end{tabular}\n"
      ],
      "text/markdown": [
       "\n",
       "Sepal.Length | Sepal.Width | Petal.Length | Petal.Width | \n",
       "|---|\n",
       "| 5.1 | 3.5 | 1.4 | 0.2 | \n",
       "\n",
       "\n"
      ],
      "text/plain": [
       "  Sepal.Length Sepal.Width Petal.Length Petal.Width\n",
       "1 5.1          3.5         1.4          0.2        "
      ]
     },
     "metadata": {},
     "output_type": "display_data"
    }
   ],
   "source": [
    "select(iris, matches(\"th\")) %>% head(1)"
   ]
  },
  {
   "cell_type": "code",
   "execution_count": 65,
   "metadata": {},
   "outputs": [
    {
     "data": {
      "text/html": [
       "<table>\n",
       "<thead><tr><th scope=col>Petal.Length</th><th scope=col>Petal.Width</th></tr></thead>\n",
       "<tbody>\n",
       "\t<tr><td>1.4</td><td>0.2</td></tr>\n",
       "</tbody>\n",
       "</table>\n"
      ],
      "text/latex": [
       "\\begin{tabular}{r|ll}\n",
       " Petal.Length & Petal.Width\\\\\n",
       "\\hline\n",
       "\t 1.4 & 0.2\\\\\n",
       "\\end{tabular}\n"
      ],
      "text/markdown": [
       "\n",
       "Petal.Length | Petal.Width | \n",
       "|---|\n",
       "| 1.4 | 0.2 | \n",
       "\n",
       "\n"
      ],
      "text/plain": [
       "  Petal.Length Petal.Width\n",
       "1 1.4          0.2        "
      ]
     },
     "metadata": {},
     "output_type": "display_data"
    }
   ],
   "source": [
    "select(iris, one_of(c(\"Petal.Length\", \"Petal.Width\"))) %>% head(1)"
   ]
  },
  {
   "cell_type": "markdown",
   "metadata": {},
   "source": [
    "###  filter & distinct"
   ]
  },
  {
   "cell_type": "code",
   "execution_count": 26,
   "metadata": {},
   "outputs": [
    {
     "data": {
      "text/html": [
       "<table>\n",
       "<thead><tr><th scope=col>Sepal.Length</th><th scope=col>Sepal.Width</th><th scope=col>Petal.Length</th><th scope=col>Petal.Width</th><th scope=col>Species</th></tr></thead>\n",
       "<tbody>\n",
       "\t<tr><td>7.1      </td><td>3.0      </td><td>5.9      </td><td>2.1      </td><td>virginica</td></tr>\n",
       "\t<tr><td>7.6      </td><td>3.0      </td><td>6.6      </td><td>2.1      </td><td>virginica</td></tr>\n",
       "\t<tr><td>7.3      </td><td>2.9      </td><td>6.3      </td><td>1.8      </td><td>virginica</td></tr>\n",
       "\t<tr><td>7.2      </td><td>3.6      </td><td>6.1      </td><td>2.5      </td><td>virginica</td></tr>\n",
       "\t<tr><td>7.7      </td><td>3.8      </td><td>6.7      </td><td>2.2      </td><td>virginica</td></tr>\n",
       "\t<tr><td>7.7      </td><td>2.6      </td><td>6.9      </td><td>2.3      </td><td>virginica</td></tr>\n",
       "</tbody>\n",
       "</table>\n"
      ],
      "text/latex": [
       "\\begin{tabular}{r|lllll}\n",
       " Sepal.Length & Sepal.Width & Petal.Length & Petal.Width & Species\\\\\n",
       "\\hline\n",
       "\t 7.1       & 3.0       & 5.9       & 2.1       & virginica\\\\\n",
       "\t 7.6       & 3.0       & 6.6       & 2.1       & virginica\\\\\n",
       "\t 7.3       & 2.9       & 6.3       & 1.8       & virginica\\\\\n",
       "\t 7.2       & 3.6       & 6.1       & 2.5       & virginica\\\\\n",
       "\t 7.7       & 3.8       & 6.7       & 2.2       & virginica\\\\\n",
       "\t 7.7       & 2.6       & 6.9       & 2.3       & virginica\\\\\n",
       "\\end{tabular}\n"
      ],
      "text/markdown": [
       "\n",
       "Sepal.Length | Sepal.Width | Petal.Length | Petal.Width | Species | \n",
       "|---|---|---|---|---|---|\n",
       "| 7.1       | 3.0       | 5.9       | 2.1       | virginica | \n",
       "| 7.6       | 3.0       | 6.6       | 2.1       | virginica | \n",
       "| 7.3       | 2.9       | 6.3       | 1.8       | virginica | \n",
       "| 7.2       | 3.6       | 6.1       | 2.5       | virginica | \n",
       "| 7.7       | 3.8       | 6.7       | 2.2       | virginica | \n",
       "| 7.7       | 2.6       | 6.9       | 2.3       | virginica | \n",
       "\n",
       "\n"
      ],
      "text/plain": [
       "  Sepal.Length Sepal.Width Petal.Length Petal.Width Species  \n",
       "1 7.1          3.0         5.9          2.1         virginica\n",
       "2 7.6          3.0         6.6          2.1         virginica\n",
       "3 7.3          2.9         6.3          1.8         virginica\n",
       "4 7.2          3.6         6.1          2.5         virginica\n",
       "5 7.7          3.8         6.7          2.2         virginica\n",
       "6 7.7          2.6         6.9          2.3         virginica"
      ]
     },
     "metadata": {},
     "output_type": "display_data"
    }
   ],
   "source": [
    "iris %>% filter(Sepal.Length > 7) %>% head()"
   ]
  },
  {
   "cell_type": "code",
   "execution_count": 27,
   "metadata": {},
   "outputs": [
    {
     "data": {
      "text/html": [
       "<table>\n",
       "<thead><tr><th scope=col>Species</th></tr></thead>\n",
       "<tbody>\n",
       "\t<tr><td>setosa    </td></tr>\n",
       "\t<tr><td>versicolor</td></tr>\n",
       "\t<tr><td>virginica </td></tr>\n",
       "</tbody>\n",
       "</table>\n"
      ],
      "text/latex": [
       "\\begin{tabular}{r|l}\n",
       " Species\\\\\n",
       "\\hline\n",
       "\t setosa    \\\\\n",
       "\t versicolor\\\\\n",
       "\t virginica \\\\\n",
       "\\end{tabular}\n"
      ],
      "text/markdown": [
       "\n",
       "Species | \n",
       "|---|---|---|\n",
       "| setosa     | \n",
       "| versicolor | \n",
       "| virginica  | \n",
       "\n",
       "\n"
      ],
      "text/plain": [
       "  Species   \n",
       "1 setosa    \n",
       "2 versicolor\n",
       "3 virginica "
      ]
     },
     "metadata": {},
     "output_type": "display_data"
    }
   ],
   "source": [
    "distinct(iris, Species)"
   ]
  },
  {
   "cell_type": "markdown",
   "metadata": {},
   "source": [
    "### sampling"
   ]
  },
  {
   "cell_type": "code",
   "execution_count": 29,
   "metadata": {},
   "outputs": [
    {
     "data": {
      "text/html": [
       "75"
      ],
      "text/latex": [
       "75"
      ],
      "text/markdown": [
       "75"
      ],
      "text/plain": [
       "[1] 75"
      ]
     },
     "metadata": {},
     "output_type": "display_data"
    }
   ],
   "source": [
    "iris %>% sample_frac(0.5, replace=TRUE) %>%  NROW"
   ]
  },
  {
   "cell_type": "code",
   "execution_count": 30,
   "metadata": {},
   "outputs": [
    {
     "data": {
      "text/html": [
       "<table>\n",
       "<thead><tr><th></th><th scope=col>Sepal.Length</th><th scope=col>Sepal.Width</th><th scope=col>Petal.Length</th><th scope=col>Petal.Width</th><th scope=col>Species</th></tr></thead>\n",
       "<tbody>\n",
       "\t<tr><th scope=row>131</th><td>7.4       </td><td>2.8       </td><td>6.1       </td><td>1.9       </td><td>virginica </td></tr>\n",
       "\t<tr><th scope=row>16</th><td>5.7       </td><td>4.4       </td><td>1.5       </td><td>0.4       </td><td>setosa    </td></tr>\n",
       "\t<tr><th scope=row>51</th><td>7.0       </td><td>3.2       </td><td>4.7       </td><td>1.4       </td><td>versicolor</td></tr>\n",
       "\t<tr><th scope=row>69</th><td>6.2       </td><td>2.2       </td><td>4.5       </td><td>1.5       </td><td>versicolor</td></tr>\n",
       "\t<tr><th scope=row>113</th><td>6.8       </td><td>3.0       </td><td>5.5       </td><td>2.1       </td><td>virginica </td></tr>\n",
       "\t<tr><th scope=row>116</th><td>6.4       </td><td>3.2       </td><td>5.3       </td><td>2.3       </td><td>virginica </td></tr>\n",
       "</tbody>\n",
       "</table>\n"
      ],
      "text/latex": [
       "\\begin{tabular}{r|lllll}\n",
       "  & Sepal.Length & Sepal.Width & Petal.Length & Petal.Width & Species\\\\\n",
       "\\hline\n",
       "\t131 & 7.4        & 2.8        & 6.1        & 1.9        & virginica \\\\\n",
       "\t16 & 5.7        & 4.4        & 1.5        & 0.4        & setosa    \\\\\n",
       "\t51 & 7.0        & 3.2        & 4.7        & 1.4        & versicolor\\\\\n",
       "\t69 & 6.2        & 2.2        & 4.5        & 1.5        & versicolor\\\\\n",
       "\t113 & 6.8        & 3.0        & 5.5        & 2.1        & virginica \\\\\n",
       "\t116 & 6.4        & 3.2        & 5.3        & 2.3        & virginica \\\\\n",
       "\\end{tabular}\n"
      ],
      "text/markdown": [
       "\n",
       "| <!--/--> | Sepal.Length | Sepal.Width | Petal.Length | Petal.Width | Species | \n",
       "|---|---|---|---|---|---|\n",
       "| 131 | 7.4        | 2.8        | 6.1        | 1.9        | virginica  | \n",
       "| 16 | 5.7        | 4.4        | 1.5        | 0.4        | setosa     | \n",
       "| 51 | 7.0        | 3.2        | 4.7        | 1.4        | versicolor | \n",
       "| 69 | 6.2        | 2.2        | 4.5        | 1.5        | versicolor | \n",
       "| 113 | 6.8        | 3.0        | 5.5        | 2.1        | virginica  | \n",
       "| 116 | 6.4        | 3.2        | 5.3        | 2.3        | virginica  | \n",
       "\n",
       "\n"
      ],
      "text/plain": [
       "    Sepal.Length Sepal.Width Petal.Length Petal.Width Species   \n",
       "131 7.4          2.8         6.1          1.9         virginica \n",
       "16  5.7          4.4         1.5          0.4         setosa    \n",
       "51  7.0          3.2         4.7          1.4         versicolor\n",
       "69  6.2          2.2         4.5          1.5         versicolor\n",
       "113 6.8          3.0         5.5          2.1         virginica \n",
       "116 6.4          3.2         5.3          2.3         virginica "
      ]
     },
     "metadata": {},
     "output_type": "display_data"
    }
   ],
   "source": [
    "iris %>% sample_n(6, replace = TRUE)"
   ]
  },
  {
   "cell_type": "markdown",
   "metadata": {},
   "source": [
    "### slice & top_n & arrange\n",
    "- slice: select rows by position\n",
    "- arrange: order rows"
   ]
  },
  {
   "cell_type": "code",
   "execution_count": 32,
   "metadata": {},
   "outputs": [
    {
     "data": {
      "text/html": [
       "<table>\n",
       "<thead><tr><th scope=col>Sepal.Length</th><th scope=col>Sepal.Width</th><th scope=col>Petal.Length</th><th scope=col>Petal.Width</th><th scope=col>Species</th></tr></thead>\n",
       "<tbody>\n",
       "\t<tr><td>5.1   </td><td>3.5   </td><td>1.4   </td><td>0.2   </td><td>setosa</td></tr>\n",
       "\t<tr><td>4.9   </td><td>3.0   </td><td>1.4   </td><td>0.2   </td><td>setosa</td></tr>\n",
       "\t<tr><td>4.7   </td><td>3.2   </td><td>1.3   </td><td>0.2   </td><td>setosa</td></tr>\n",
       "\t<tr><td>4.6   </td><td>3.1   </td><td>1.5   </td><td>0.2   </td><td>setosa</td></tr>\n",
       "\t<tr><td>5.0   </td><td>3.6   </td><td>1.4   </td><td>0.2   </td><td>setosa</td></tr>\n",
       "\t<tr><td>5.4   </td><td>3.9   </td><td>1.7   </td><td>0.4   </td><td>setosa</td></tr>\n",
       "</tbody>\n",
       "</table>\n"
      ],
      "text/latex": [
       "\\begin{tabular}{r|lllll}\n",
       " Sepal.Length & Sepal.Width & Petal.Length & Petal.Width & Species\\\\\n",
       "\\hline\n",
       "\t 5.1    & 3.5    & 1.4    & 0.2    & setosa\\\\\n",
       "\t 4.9    & 3.0    & 1.4    & 0.2    & setosa\\\\\n",
       "\t 4.7    & 3.2    & 1.3    & 0.2    & setosa\\\\\n",
       "\t 4.6    & 3.1    & 1.5    & 0.2    & setosa\\\\\n",
       "\t 5.0    & 3.6    & 1.4    & 0.2    & setosa\\\\\n",
       "\t 5.4    & 3.9    & 1.7    & 0.4    & setosa\\\\\n",
       "\\end{tabular}\n"
      ],
      "text/markdown": [
       "\n",
       "Sepal.Length | Sepal.Width | Petal.Length | Petal.Width | Species | \n",
       "|---|---|---|---|---|---|\n",
       "| 5.1    | 3.5    | 1.4    | 0.2    | setosa | \n",
       "| 4.9    | 3.0    | 1.4    | 0.2    | setosa | \n",
       "| 4.7    | 3.2    | 1.3    | 0.2    | setosa | \n",
       "| 4.6    | 3.1    | 1.5    | 0.2    | setosa | \n",
       "| 5.0    | 3.6    | 1.4    | 0.2    | setosa | \n",
       "| 5.4    | 3.9    | 1.7    | 0.4    | setosa | \n",
       "\n",
       "\n"
      ],
      "text/plain": [
       "  Sepal.Length Sepal.Width Petal.Length Petal.Width Species\n",
       "1 5.1          3.5         1.4          0.2         setosa \n",
       "2 4.9          3.0         1.4          0.2         setosa \n",
       "3 4.7          3.2         1.3          0.2         setosa \n",
       "4 4.6          3.1         1.5          0.2         setosa \n",
       "5 5.0          3.6         1.4          0.2         setosa \n",
       "6 5.4          3.9         1.7          0.4         setosa "
      ]
     },
     "metadata": {},
     "output_type": "display_data"
    }
   ],
   "source": [
    "head(iris)"
   ]
  },
  {
   "cell_type": "code",
   "execution_count": 33,
   "metadata": {},
   "outputs": [
    {
     "data": {
      "text/html": [
       "<table>\n",
       "<thead><tr><th scope=col>Sepal.Length</th><th scope=col>Sepal.Width</th><th scope=col>Petal.Length</th><th scope=col>Petal.Width</th><th scope=col>Species</th></tr></thead>\n",
       "<tbody>\n",
       "\t<tr><td>4.9   </td><td>3.0   </td><td>1.4   </td><td>0.2   </td><td>setosa</td></tr>\n",
       "\t<tr><td>4.7   </td><td>3.2   </td><td>1.3   </td><td>0.2   </td><td>setosa</td></tr>\n",
       "\t<tr><td>4.6   </td><td>3.1   </td><td>1.5   </td><td>0.2   </td><td>setosa</td></tr>\n",
       "</tbody>\n",
       "</table>\n"
      ],
      "text/latex": [
       "\\begin{tabular}{r|lllll}\n",
       " Sepal.Length & Sepal.Width & Petal.Length & Petal.Width & Species\\\\\n",
       "\\hline\n",
       "\t 4.9    & 3.0    & 1.4    & 0.2    & setosa\\\\\n",
       "\t 4.7    & 3.2    & 1.3    & 0.2    & setosa\\\\\n",
       "\t 4.6    & 3.1    & 1.5    & 0.2    & setosa\\\\\n",
       "\\end{tabular}\n"
      ],
      "text/markdown": [
       "\n",
       "Sepal.Length | Sepal.Width | Petal.Length | Petal.Width | Species | \n",
       "|---|---|---|\n",
       "| 4.9    | 3.0    | 1.4    | 0.2    | setosa | \n",
       "| 4.7    | 3.2    | 1.3    | 0.2    | setosa | \n",
       "| 4.6    | 3.1    | 1.5    | 0.2    | setosa | \n",
       "\n",
       "\n"
      ],
      "text/plain": [
       "  Sepal.Length Sepal.Width Petal.Length Petal.Width Species\n",
       "1 4.9          3.0         1.4          0.2         setosa \n",
       "2 4.7          3.2         1.3          0.2         setosa \n",
       "3 4.6          3.1         1.5          0.2         setosa "
      ]
     },
     "metadata": {},
     "output_type": "display_data"
    }
   ],
   "source": [
    "slice(iris, 2:4)"
   ]
  },
  {
   "cell_type": "code",
   "execution_count": 42,
   "metadata": {},
   "outputs": [
    {
     "data": {
      "text/html": [
       "<table>\n",
       "<thead><tr><th scope=col>Sepal.Length</th><th scope=col>Sepal.Width</th><th scope=col>Petal.Length</th><th scope=col>Petal.Width</th><th scope=col>Species</th></tr></thead>\n",
       "<tbody>\n",
       "\t<tr><td>5.7   </td><td>4.4   </td><td>1.5   </td><td>0.4   </td><td>setosa</td></tr>\n",
       "\t<tr><td>5.5   </td><td>4.2   </td><td>1.4   </td><td>0.2   </td><td>setosa</td></tr>\n",
       "\t<tr><td>5.2   </td><td>4.1   </td><td>1.5   </td><td>0.1   </td><td>setosa</td></tr>\n",
       "\t<tr><td>5.8   </td><td>4.0   </td><td>1.2   </td><td>0.2   </td><td>setosa</td></tr>\n",
       "\t<tr><td>5.4   </td><td>3.9   </td><td>1.7   </td><td>0.4   </td><td>setosa</td></tr>\n",
       "</tbody>\n",
       "</table>\n"
      ],
      "text/latex": [
       "\\begin{tabular}{r|lllll}\n",
       " Sepal.Length & Sepal.Width & Petal.Length & Petal.Width & Species\\\\\n",
       "\\hline\n",
       "\t 5.7    & 4.4    & 1.5    & 0.4    & setosa\\\\\n",
       "\t 5.5    & 4.2    & 1.4    & 0.2    & setosa\\\\\n",
       "\t 5.2    & 4.1    & 1.5    & 0.1    & setosa\\\\\n",
       "\t 5.8    & 4.0    & 1.2    & 0.2    & setosa\\\\\n",
       "\t 5.4    & 3.9    & 1.7    & 0.4    & setosa\\\\\n",
       "\\end{tabular}\n"
      ],
      "text/markdown": [
       "\n",
       "Sepal.Length | Sepal.Width | Petal.Length | Petal.Width | Species | \n",
       "|---|---|---|---|---|\n",
       "| 5.7    | 4.4    | 1.5    | 0.4    | setosa | \n",
       "| 5.5    | 4.2    | 1.4    | 0.2    | setosa | \n",
       "| 5.2    | 4.1    | 1.5    | 0.1    | setosa | \n",
       "| 5.8    | 4.0    | 1.2    | 0.2    | setosa | \n",
       "| 5.4    | 3.9    | 1.7    | 0.4    | setosa | \n",
       "\n",
       "\n"
      ],
      "text/plain": [
       "  Sepal.Length Sepal.Width Petal.Length Petal.Width Species\n",
       "1 5.7          4.4         1.5          0.4         setosa \n",
       "2 5.5          4.2         1.4          0.2         setosa \n",
       "3 5.2          4.1         1.5          0.1         setosa \n",
       "4 5.8          4.0         1.2          0.2         setosa \n",
       "5 5.4          3.9         1.7          0.4         setosa "
      ]
     },
     "metadata": {},
     "output_type": "display_data"
    }
   ],
   "source": [
    "iris %>% arrange(desc(Sepal.Width)) %>% head(5)"
   ]
  },
  {
   "cell_type": "code",
   "execution_count": 44,
   "metadata": {},
   "outputs": [
    {
     "data": {
      "text/html": [
       "<table>\n",
       "<thead><tr><th scope=col>Sepal.Length</th><th scope=col>Sepal.Width</th><th scope=col>Petal.Length</th><th scope=col>Petal.Width</th><th scope=col>Species</th></tr></thead>\n",
       "<tbody>\n",
       "\t<tr><td>5.4   </td><td>3.9   </td><td>1.7   </td><td>0.4   </td><td>setosa</td></tr>\n",
       "\t<tr><td>5.8   </td><td>4.0   </td><td>1.2   </td><td>0.2   </td><td>setosa</td></tr>\n",
       "\t<tr><td>5.7   </td><td>4.4   </td><td>1.5   </td><td>0.4   </td><td>setosa</td></tr>\n",
       "\t<tr><td>5.4   </td><td>3.9   </td><td>1.3   </td><td>0.4   </td><td>setosa</td></tr>\n",
       "\t<tr><td>5.2   </td><td>4.1   </td><td>1.5   </td><td>0.1   </td><td>setosa</td></tr>\n",
       "\t<tr><td>5.5   </td><td>4.2   </td><td>1.4   </td><td>0.2   </td><td>setosa</td></tr>\n",
       "</tbody>\n",
       "</table>\n"
      ],
      "text/latex": [
       "\\begin{tabular}{r|lllll}\n",
       " Sepal.Length & Sepal.Width & Petal.Length & Petal.Width & Species\\\\\n",
       "\\hline\n",
       "\t 5.4    & 3.9    & 1.7    & 0.4    & setosa\\\\\n",
       "\t 5.8    & 4.0    & 1.2    & 0.2    & setosa\\\\\n",
       "\t 5.7    & 4.4    & 1.5    & 0.4    & setosa\\\\\n",
       "\t 5.4    & 3.9    & 1.3    & 0.4    & setosa\\\\\n",
       "\t 5.2    & 4.1    & 1.5    & 0.1    & setosa\\\\\n",
       "\t 5.5    & 4.2    & 1.4    & 0.2    & setosa\\\\\n",
       "\\end{tabular}\n"
      ],
      "text/markdown": [
       "\n",
       "Sepal.Length | Sepal.Width | Petal.Length | Petal.Width | Species | \n",
       "|---|---|---|---|---|---|\n",
       "| 5.4    | 3.9    | 1.7    | 0.4    | setosa | \n",
       "| 5.8    | 4.0    | 1.2    | 0.2    | setosa | \n",
       "| 5.7    | 4.4    | 1.5    | 0.4    | setosa | \n",
       "| 5.4    | 3.9    | 1.3    | 0.4    | setosa | \n",
       "| 5.2    | 4.1    | 1.5    | 0.1    | setosa | \n",
       "| 5.5    | 4.2    | 1.4    | 0.2    | setosa | \n",
       "\n",
       "\n"
      ],
      "text/plain": [
       "  Sepal.Length Sepal.Width Petal.Length Petal.Width Species\n",
       "1 5.4          3.9         1.7          0.4         setosa \n",
       "2 5.8          4.0         1.2          0.2         setosa \n",
       "3 5.7          4.4         1.5          0.4         setosa \n",
       "4 5.4          3.9         1.3          0.4         setosa \n",
       "5 5.2          4.1         1.5          0.1         setosa \n",
       "6 5.5          4.2         1.4          0.2         setosa "
      ]
     },
     "metadata": {},
     "output_type": "display_data"
    }
   ],
   "source": [
    "# 정렬 중에 값이 같아서 2개가 동시에 추가된 것.\n",
    "iris %>% top_n(5, Sepal.Width)"
   ]
  },
  {
   "cell_type": "markdown",
   "metadata": {},
   "source": [
    "### mutate\n",
    "- mutate: compute new columns\n",
    "- transmutate: compute new columns and drop others\n",
    "- mutate_all: apply funs to every column\n",
    "- mutate_if/ mutate_at: apply funs to specific columns"
   ]
  },
  {
   "cell_type": "code",
   "execution_count": 67,
   "metadata": {},
   "outputs": [
    {
     "data": {
      "text/html": [
       "<table>\n",
       "<thead><tr><th scope=col>mpg</th><th scope=col>cyl</th><th scope=col>disp</th><th scope=col>hp</th><th scope=col>drat</th><th scope=col>wt</th><th scope=col>qsec</th><th scope=col>vs</th><th scope=col>am</th><th scope=col>gear</th><th scope=col>carb</th><th scope=col>gpm</th></tr></thead>\n",
       "<tbody>\n",
       "\t<tr><td>21.0      </td><td>6         </td><td>160       </td><td>110       </td><td>3.90      </td><td>2.620     </td><td>16.46     </td><td>0         </td><td>1         </td><td>4         </td><td>4         </td><td>0.04761905</td></tr>\n",
       "\t<tr><td>21.0      </td><td>6         </td><td>160       </td><td>110       </td><td>3.90      </td><td>2.875     </td><td>17.02     </td><td>0         </td><td>1         </td><td>4         </td><td>4         </td><td>0.04761905</td></tr>\n",
       "\t<tr><td>22.8      </td><td>4         </td><td>108       </td><td> 93       </td><td>3.85      </td><td>2.320     </td><td>18.61     </td><td>1         </td><td>1         </td><td>4         </td><td>1         </td><td>0.04385965</td></tr>\n",
       "\t<tr><td>21.4      </td><td>6         </td><td>258       </td><td>110       </td><td>3.08      </td><td>3.215     </td><td>19.44     </td><td>1         </td><td>0         </td><td>3         </td><td>1         </td><td>0.04672897</td></tr>\n",
       "\t<tr><td>18.7      </td><td>8         </td><td>360       </td><td>175       </td><td>3.15      </td><td>3.440     </td><td>17.02     </td><td>0         </td><td>0         </td><td>3         </td><td>2         </td><td>0.05347594</td></tr>\n",
       "</tbody>\n",
       "</table>\n"
      ],
      "text/latex": [
       "\\begin{tabular}{r|llllllllllll}\n",
       " mpg & cyl & disp & hp & drat & wt & qsec & vs & am & gear & carb & gpm\\\\\n",
       "\\hline\n",
       "\t 21.0       & 6          & 160        & 110        & 3.90       & 2.620      & 16.46      & 0          & 1          & 4          & 4          & 0.04761905\\\\\n",
       "\t 21.0       & 6          & 160        & 110        & 3.90       & 2.875      & 17.02      & 0          & 1          & 4          & 4          & 0.04761905\\\\\n",
       "\t 22.8       & 4          & 108        &  93        & 3.85       & 2.320      & 18.61      & 1          & 1          & 4          & 1          & 0.04385965\\\\\n",
       "\t 21.4       & 6          & 258        & 110        & 3.08       & 3.215      & 19.44      & 1          & 0          & 3          & 1          & 0.04672897\\\\\n",
       "\t 18.7       & 8          & 360        & 175        & 3.15       & 3.440      & 17.02      & 0          & 0          & 3          & 2          & 0.05347594\\\\\n",
       "\\end{tabular}\n"
      ],
      "text/markdown": [
       "\n",
       "mpg | cyl | disp | hp | drat | wt | qsec | vs | am | gear | carb | gpm | \n",
       "|---|---|---|---|---|\n",
       "| 21.0       | 6          | 160        | 110        | 3.90       | 2.620      | 16.46      | 0          | 1          | 4          | 4          | 0.04761905 | \n",
       "| 21.0       | 6          | 160        | 110        | 3.90       | 2.875      | 17.02      | 0          | 1          | 4          | 4          | 0.04761905 | \n",
       "| 22.8       | 4          | 108        |  93        | 3.85       | 2.320      | 18.61      | 1          | 1          | 4          | 1          | 0.04385965 | \n",
       "| 21.4       | 6          | 258        | 110        | 3.08       | 3.215      | 19.44      | 1          | 0          | 3          | 1          | 0.04672897 | \n",
       "| 18.7       | 8          | 360        | 175        | 3.15       | 3.440      | 17.02      | 0          | 0          | 3          | 2          | 0.05347594 | \n",
       "\n",
       "\n"
      ],
      "text/plain": [
       "  mpg  cyl disp hp  drat wt    qsec  vs am gear carb gpm       \n",
       "1 21.0 6   160  110 3.90 2.620 16.46 0  1  4    4    0.04761905\n",
       "2 21.0 6   160  110 3.90 2.875 17.02 0  1  4    4    0.04761905\n",
       "3 22.8 4   108   93 3.85 2.320 18.61 1  1  4    1    0.04385965\n",
       "4 21.4 6   258  110 3.08 3.215 19.44 1  0  3    1    0.04672897\n",
       "5 18.7 8   360  175 3.15 3.440 17.02 0  0  3    2    0.05347594"
      ]
     },
     "metadata": {},
     "output_type": "display_data"
    }
   ],
   "source": [
    "mtcars %>% mutate(gpm=1/mpg) %>% head(5)"
   ]
  },
  {
   "cell_type": "code",
   "execution_count": 68,
   "metadata": {},
   "outputs": [
    {
     "data": {
      "text/html": [
       "<table>\n",
       "<thead><tr><th scope=col>gpm</th></tr></thead>\n",
       "<tbody>\n",
       "\t<tr><td>0.04761905</td></tr>\n",
       "\t<tr><td>0.04761905</td></tr>\n",
       "\t<tr><td>0.04385965</td></tr>\n",
       "\t<tr><td>0.04672897</td></tr>\n",
       "\t<tr><td>0.05347594</td></tr>\n",
       "</tbody>\n",
       "</table>\n"
      ],
      "text/latex": [
       "\\begin{tabular}{r|l}\n",
       " gpm\\\\\n",
       "\\hline\n",
       "\t 0.04761905\\\\\n",
       "\t 0.04761905\\\\\n",
       "\t 0.04385965\\\\\n",
       "\t 0.04672897\\\\\n",
       "\t 0.05347594\\\\\n",
       "\\end{tabular}\n"
      ],
      "text/markdown": [
       "\n",
       "gpm | \n",
       "|---|---|---|---|---|\n",
       "| 0.04761905 | \n",
       "| 0.04761905 | \n",
       "| 0.04385965 | \n",
       "| 0.04672897 | \n",
       "| 0.05347594 | \n",
       "\n",
       "\n"
      ],
      "text/plain": [
       "  gpm       \n",
       "1 0.04761905\n",
       "2 0.04761905\n",
       "3 0.04385965\n",
       "4 0.04672897\n",
       "5 0.05347594"
      ]
     },
     "metadata": {},
     "output_type": "display_data"
    }
   ],
   "source": [
    "transmute(mtcars, gpm=1/mpg) %>% head(5)"
   ]
  },
  {
   "cell_type": "code",
   "execution_count": 83,
   "metadata": {},
   "outputs": [
    {
     "data": {
      "text/html": [
       "<table>\n",
       "<thead><tr><th scope=col>eruptions</th><th scope=col>waiting</th></tr></thead>\n",
       "<tbody>\n",
       "\t<tr><td>1.280934</td><td>4.369448</td></tr>\n",
       "</tbody>\n",
       "</table>\n"
      ],
      "text/latex": [
       "\\begin{tabular}{r|ll}\n",
       " eruptions & waiting\\\\\n",
       "\\hline\n",
       "\t 1.280934 & 4.369448\\\\\n",
       "\\end{tabular}\n"
      ],
      "text/markdown": [
       "\n",
       "eruptions | waiting | \n",
       "|---|\n",
       "| 1.280934 | 4.369448 | \n",
       "\n",
       "\n"
      ],
      "text/plain": [
       "  eruptions waiting \n",
       "1 1.280934  4.369448"
      ]
     },
     "metadata": {},
     "output_type": "display_data"
    }
   ],
   "source": [
    "# funs이 하나일 때, 이름 없이 쓰면 기존 변수에 바로 적용\n",
    "mutate_all(faithful, funs(log(.))) %>% head(1)"
   ]
  },
  {
   "cell_type": "code",
   "execution_count": 84,
   "metadata": {},
   "outputs": [
    {
     "data": {
      "text/html": [
       "<table>\n",
       "<thead><tr><th scope=col>eruptions</th><th scope=col>waiting</th><th scope=col>eruptions_log</th><th scope=col>waiting_log</th></tr></thead>\n",
       "<tbody>\n",
       "\t<tr><td>3.6     </td><td>79      </td><td>1.280934</td><td>4.369448</td></tr>\n",
       "</tbody>\n",
       "</table>\n"
      ],
      "text/latex": [
       "\\begin{tabular}{r|llll}\n",
       " eruptions & waiting & eruptions\\_log & waiting\\_log\\\\\n",
       "\\hline\n",
       "\t 3.6      & 79       & 1.280934 & 4.369448\\\\\n",
       "\\end{tabular}\n"
      ],
      "text/markdown": [
       "\n",
       "eruptions | waiting | eruptions_log | waiting_log | \n",
       "|---|\n",
       "| 3.6      | 79       | 1.280934 | 4.369448 | \n",
       "\n",
       "\n"
      ],
      "text/plain": [
       "  eruptions waiting eruptions_log waiting_log\n",
       "1 3.6       79      1.280934      4.369448   "
      ]
     },
     "metadata": {},
     "output_type": "display_data"
    }
   ],
   "source": [
    "# funcs이 하나일 때, 이름 지정하면 기존 변수 이외에 추가로 변수 생성\n",
    "mutate_all(faithful, funs(log=log(.))) %>% head(1)"
   ]
  },
  {
   "cell_type": "code",
   "execution_count": 79,
   "metadata": {},
   "outputs": [
    {
     "data": {
      "text/html": [
       "<table>\n",
       "<thead><tr><th scope=col>eruptions</th><th scope=col>waiting</th><th scope=col>eruptions_log</th><th scope=col>waiting_log</th><th scope=col>eruptions_log2</th><th scope=col>waiting_log2</th></tr></thead>\n",
       "<tbody>\n",
       "\t<tr><td>3.6     </td><td>79      </td><td>1.280934</td><td>4.369448</td><td>1.847997</td><td>6.303781</td></tr>\n",
       "</tbody>\n",
       "</table>\n"
      ],
      "text/latex": [
       "\\begin{tabular}{r|llllll}\n",
       " eruptions & waiting & eruptions\\_log & waiting\\_log & eruptions\\_log2 & waiting\\_log2\\\\\n",
       "\\hline\n",
       "\t 3.6      & 79       & 1.280934 & 4.369448 & 1.847997 & 6.303781\\\\\n",
       "\\end{tabular}\n"
      ],
      "text/markdown": [
       "\n",
       "eruptions | waiting | eruptions_log | waiting_log | eruptions_log2 | waiting_log2 | \n",
       "|---|\n",
       "| 3.6      | 79       | 1.280934 | 4.369448 | 1.847997 | 6.303781 | \n",
       "\n",
       "\n"
      ],
      "text/plain": [
       "  eruptions waiting eruptions_log waiting_log eruptions_log2 waiting_log2\n",
       "1 3.6       79      1.280934      4.369448    1.847997       6.303781    "
      ]
     },
     "metadata": {},
     "output_type": "display_data"
    }
   ],
   "source": [
    "mutate_all(faithful, funs(log(.), log2(.))) %>% head(1)"
   ]
  },
  {
   "cell_type": "code",
   "execution_count": 69,
   "metadata": {},
   "outputs": [
    {
     "data": {
      "text/html": [
       "<table>\n",
       "<thead><tr><th scope=col>eruptions</th><th scope=col>waiting</th><th scope=col>eruptions_A</th><th scope=col>waiting_A</th><th scope=col>eruptions_B</th><th scope=col>waiting_B</th></tr></thead>\n",
       "<tbody>\n",
       "\t<tr><td>3.6     </td><td>79      </td><td>1.280934</td><td>4.369448</td><td>1.847997</td><td>6.303781</td></tr>\n",
       "</tbody>\n",
       "</table>\n"
      ],
      "text/latex": [
       "\\begin{tabular}{r|llllll}\n",
       " eruptions & waiting & eruptions\\_A & waiting\\_A & eruptions\\_B & waiting\\_B\\\\\n",
       "\\hline\n",
       "\t 3.6      & 79       & 1.280934 & 4.369448 & 1.847997 & 6.303781\\\\\n",
       "\\end{tabular}\n"
      ],
      "text/markdown": [
       "\n",
       "eruptions | waiting | eruptions_A | waiting_A | eruptions_B | waiting_B | \n",
       "|---|\n",
       "| 3.6      | 79       | 1.280934 | 4.369448 | 1.847997 | 6.303781 | \n",
       "\n",
       "\n"
      ],
      "text/plain": [
       "  eruptions waiting eruptions_A waiting_A eruptions_B waiting_B\n",
       "1 3.6       79      1.280934    4.369448  1.847997    6.303781 "
      ]
     },
     "metadata": {},
     "output_type": "display_data"
    }
   ],
   "source": [
    "mutate_all(faithful, funs(A=log(.), B=log2(.))) %>% head(1)"
   ]
  },
  {
   "cell_type": "code",
   "execution_count": 70,
   "metadata": {},
   "outputs": [
    {
     "data": {
      "text/html": [
       "<table>\n",
       "<thead><tr><th scope=col>eruptions</th><th scope=col>waiting</th></tr></thead>\n",
       "<tbody>\n",
       "\t<tr><td>1.2809338</td><td>4.369448 </td></tr>\n",
       "\t<tr><td>0.5877867</td><td>3.988984 </td></tr>\n",
       "</tbody>\n",
       "</table>\n"
      ],
      "text/latex": [
       "\\begin{tabular}{r|ll}\n",
       " eruptions & waiting\\\\\n",
       "\\hline\n",
       "\t 1.2809338 & 4.369448 \\\\\n",
       "\t 0.5877867 & 3.988984 \\\\\n",
       "\\end{tabular}\n"
      ],
      "text/markdown": [
       "\n",
       "eruptions | waiting | \n",
       "|---|---|\n",
       "| 1.2809338 | 4.369448  | \n",
       "| 0.5877867 | 3.988984  | \n",
       "\n",
       "\n"
      ],
      "text/plain": [
       "  eruptions waiting \n",
       "1 1.2809338 4.369448\n",
       "2 0.5877867 3.988984"
      ]
     },
     "metadata": {},
     "output_type": "display_data"
    }
   ],
   "source": [
    "mutate_if(faithful, is.numeric, log) %>% head(2)"
   ]
  },
  {
   "cell_type": "code",
   "execution_count": 4,
   "metadata": {},
   "outputs": [
    {
     "ename": "ERROR",
     "evalue": "Error in mutate_if(faithful, is.numeric, funs(log = log(.))) %>% head(2): 함수 \"%>%\"를 찾을 수 없습니다\n",
     "output_type": "error",
     "traceback": [
      "Error in mutate_if(faithful, is.numeric, funs(log = log(.))) %>% head(2): 함수 \"%>%\"를 찾을 수 없습니다\nTraceback:\n"
     ]
    }
   ],
   "source": [
    "mutate_if(faithful, is.numeric, funs(log=log(.))) %>% head(2)"
   ]
  },
  {
   "cell_type": "code",
   "execution_count": 71,
   "metadata": {},
   "outputs": [
    {
     "data": {
      "text/html": [
       "<table>\n",
       "<thead><tr><th scope=col>eruptions</th><th scope=col>waiting</th></tr></thead>\n",
       "<tbody>\n",
       "\t<tr><td>1.2809338</td><td>4.369448 </td></tr>\n",
       "\t<tr><td>0.5877867</td><td>3.988984 </td></tr>\n",
       "</tbody>\n",
       "</table>\n"
      ],
      "text/latex": [
       "\\begin{tabular}{r|ll}\n",
       " eruptions & waiting\\\\\n",
       "\\hline\n",
       "\t 1.2809338 & 4.369448 \\\\\n",
       "\t 0.5877867 & 3.988984 \\\\\n",
       "\\end{tabular}\n"
      ],
      "text/markdown": [
       "\n",
       "eruptions | waiting | \n",
       "|---|---|\n",
       "| 1.2809338 | 4.369448  | \n",
       "| 0.5877867 | 3.988984  | \n",
       "\n",
       "\n"
      ],
      "text/plain": [
       "  eruptions waiting \n",
       "1 1.2809338 4.369448\n",
       "2 0.5877867 3.988984"
      ]
     },
     "metadata": {},
     "output_type": "display_data"
    }
   ],
   "source": [
    "mutate_if(faithful, is.numeric, funs(log(.))) %>% head(2)"
   ]
  },
  {
   "cell_type": "code",
   "execution_count": 76,
   "metadata": {},
   "outputs": [
    {
     "data": {
      "text/html": [
       "<table>\n",
       "<thead><tr><th scope=col>eruptions</th><th scope=col>waiting</th><th scope=col>eruptions_log</th><th scope=col>waiting_log</th><th scope=col>eruptions_log2</th><th scope=col>waiting_log2</th></tr></thead>\n",
       "<tbody>\n",
       "\t<tr><td>3.6      </td><td>79       </td><td>1.2809338</td><td>4.369448 </td><td>1.8479969</td><td>6.303781 </td></tr>\n",
       "\t<tr><td>1.8      </td><td>54       </td><td>0.5877867</td><td>3.988984 </td><td>0.8479969</td><td>5.754888 </td></tr>\n",
       "</tbody>\n",
       "</table>\n"
      ],
      "text/latex": [
       "\\begin{tabular}{r|llllll}\n",
       " eruptions & waiting & eruptions\\_log & waiting\\_log & eruptions\\_log2 & waiting\\_log2\\\\\n",
       "\\hline\n",
       "\t 3.6       & 79        & 1.2809338 & 4.369448  & 1.8479969 & 6.303781 \\\\\n",
       "\t 1.8       & 54        & 0.5877867 & 3.988984  & 0.8479969 & 5.754888 \\\\\n",
       "\\end{tabular}\n"
      ],
      "text/markdown": [
       "\n",
       "eruptions | waiting | eruptions_log | waiting_log | eruptions_log2 | waiting_log2 | \n",
       "|---|---|\n",
       "| 3.6       | 79        | 1.2809338 | 4.369448  | 1.8479969 | 6.303781  | \n",
       "| 1.8       | 54        | 0.5877867 | 3.988984  | 0.8479969 | 5.754888  | \n",
       "\n",
       "\n"
      ],
      "text/plain": [
       "  eruptions waiting eruptions_log waiting_log eruptions_log2 waiting_log2\n",
       "1 3.6       79      1.2809338     4.369448    1.8479969      6.303781    \n",
       "2 1.8       54      0.5877867     3.988984    0.8479969      5.754888    "
      ]
     },
     "metadata": {},
     "output_type": "display_data"
    }
   ],
   "source": [
    "mutate_if(faithful, is.numeric, funs(log(.), log2(.) )) %>% head(2)"
   ]
  },
  {
   "cell_type": "code",
   "execution_count": 77,
   "metadata": {},
   "outputs": [
    {
     "data": {
      "text/html": [
       "<table>\n",
       "<thead><tr><th scope=col>eruptions</th><th scope=col>waiting</th><th scope=col>eruptions_A</th><th scope=col>waiting_A</th><th scope=col>eruptions_B</th><th scope=col>waiting_B</th></tr></thead>\n",
       "<tbody>\n",
       "\t<tr><td>3.6      </td><td>79       </td><td>1.2809338</td><td>4.369448 </td><td>1.8479969</td><td>6.303781 </td></tr>\n",
       "\t<tr><td>1.8      </td><td>54       </td><td>0.5877867</td><td>3.988984 </td><td>0.8479969</td><td>5.754888 </td></tr>\n",
       "</tbody>\n",
       "</table>\n"
      ],
      "text/latex": [
       "\\begin{tabular}{r|llllll}\n",
       " eruptions & waiting & eruptions\\_A & waiting\\_A & eruptions\\_B & waiting\\_B\\\\\n",
       "\\hline\n",
       "\t 3.6       & 79        & 1.2809338 & 4.369448  & 1.8479969 & 6.303781 \\\\\n",
       "\t 1.8       & 54        & 0.5877867 & 3.988984  & 0.8479969 & 5.754888 \\\\\n",
       "\\end{tabular}\n"
      ],
      "text/markdown": [
       "\n",
       "eruptions | waiting | eruptions_A | waiting_A | eruptions_B | waiting_B | \n",
       "|---|---|\n",
       "| 3.6       | 79        | 1.2809338 | 4.369448  | 1.8479969 | 6.303781  | \n",
       "| 1.8       | 54        | 0.5877867 | 3.988984  | 0.8479969 | 5.754888  | \n",
       "\n",
       "\n"
      ],
      "text/plain": [
       "  eruptions waiting eruptions_A waiting_A eruptions_B waiting_B\n",
       "1 3.6       79      1.2809338   4.369448  1.8479969   6.303781 \n",
       "2 1.8       54      0.5877867   3.988984  0.8479969   5.754888 "
      ]
     },
     "metadata": {},
     "output_type": "display_data"
    }
   ],
   "source": [
    "mutate_if(faithful, is.numeric, funs(A=log(.), B=log2(.) )) %>% head(2)"
   ]
  },
  {
   "cell_type": "code",
   "execution_count": 78,
   "metadata": {},
   "outputs": [
    {
     "data": {
      "text/html": [
       "<table>\n",
       "<thead><tr><th scope=col>Sepal.Length</th><th scope=col>Sepal.Width</th><th scope=col>Petal.Length</th><th scope=col>Petal.Width</th><th scope=col>Species</th></tr></thead>\n",
       "<tbody>\n",
       "\t<tr><td>1.629241  </td><td>1.252763  </td><td>0.3364722 </td><td>-1.6094379</td><td>setosa    </td></tr>\n",
       "\t<tr><td>1.589235  </td><td>1.098612  </td><td>0.3364722 </td><td>-1.6094379</td><td>setosa    </td></tr>\n",
       "\t<tr><td>1.547563  </td><td>1.163151  </td><td>0.2623643 </td><td>-1.6094379</td><td>setosa    </td></tr>\n",
       "\t<tr><td>1.526056  </td><td>1.131402  </td><td>0.4054651 </td><td>-1.6094379</td><td>setosa    </td></tr>\n",
       "\t<tr><td>1.609438  </td><td>1.280934  </td><td>0.3364722 </td><td>-1.6094379</td><td>setosa    </td></tr>\n",
       "\t<tr><td>1.686399  </td><td>1.360977  </td><td>0.5306283 </td><td>-0.9162907</td><td>setosa    </td></tr>\n",
       "</tbody>\n",
       "</table>\n"
      ],
      "text/latex": [
       "\\begin{tabular}{r|lllll}\n",
       " Sepal.Length & Sepal.Width & Petal.Length & Petal.Width & Species\\\\\n",
       "\\hline\n",
       "\t 1.629241   & 1.252763   & 0.3364722  & -1.6094379 & setosa    \\\\\n",
       "\t 1.589235   & 1.098612   & 0.3364722  & -1.6094379 & setosa    \\\\\n",
       "\t 1.547563   & 1.163151   & 0.2623643  & -1.6094379 & setosa    \\\\\n",
       "\t 1.526056   & 1.131402   & 0.4054651  & -1.6094379 & setosa    \\\\\n",
       "\t 1.609438   & 1.280934   & 0.3364722  & -1.6094379 & setosa    \\\\\n",
       "\t 1.686399   & 1.360977   & 0.5306283  & -0.9162907 & setosa    \\\\\n",
       "\\end{tabular}\n"
      ],
      "text/markdown": [
       "\n",
       "Sepal.Length | Sepal.Width | Petal.Length | Petal.Width | Species | \n",
       "|---|---|---|---|---|---|\n",
       "| 1.629241   | 1.252763   | 0.3364722  | -1.6094379 | setosa     | \n",
       "| 1.589235   | 1.098612   | 0.3364722  | -1.6094379 | setosa     | \n",
       "| 1.547563   | 1.163151   | 0.2623643  | -1.6094379 | setosa     | \n",
       "| 1.526056   | 1.131402   | 0.4054651  | -1.6094379 | setosa     | \n",
       "| 1.609438   | 1.280934   | 0.3364722  | -1.6094379 | setosa     | \n",
       "| 1.686399   | 1.360977   | 0.5306283  | -0.9162907 | setosa     | \n",
       "\n",
       "\n"
      ],
      "text/plain": [
       "  Sepal.Length Sepal.Width Petal.Length Petal.Width Species\n",
       "1 1.629241     1.252763    0.3364722    -1.6094379  setosa \n",
       "2 1.589235     1.098612    0.3364722    -1.6094379  setosa \n",
       "3 1.547563     1.163151    0.2623643    -1.6094379  setosa \n",
       "4 1.526056     1.131402    0.4054651    -1.6094379  setosa \n",
       "5 1.609438     1.280934    0.3364722    -1.6094379  setosa \n",
       "6 1.686399     1.360977    0.5306283    -0.9162907  setosa "
      ]
     },
     "metadata": {},
     "output_type": "display_data"
    }
   ],
   "source": [
    "mutate_at(iris, vars(-Species), funs(log(.))) %>% head()"
   ]
  },
  {
   "cell_type": "code",
   "execution_count": 85,
   "metadata": {},
   "outputs": [
    {
     "data": {
      "text/html": [
       "<table>\n",
       "<thead><tr><th scope=col>Sepal.Length</th><th scope=col>Sepal.Width</th><th scope=col>Petal.Length</th><th scope=col>Petal.Width</th><th scope=col>Species</th><th scope=col>Sepal.Length_log</th><th scope=col>Sepal.Width_log</th><th scope=col>Petal.Length_log</th><th scope=col>Petal.Width_log</th></tr></thead>\n",
       "<tbody>\n",
       "\t<tr><td>5.1       </td><td>3.5       </td><td>1.4       </td><td>0.2       </td><td>setosa    </td><td>1.629241  </td><td>1.252763  </td><td>0.3364722 </td><td>-1.6094379</td></tr>\n",
       "\t<tr><td>4.9       </td><td>3.0       </td><td>1.4       </td><td>0.2       </td><td>setosa    </td><td>1.589235  </td><td>1.098612  </td><td>0.3364722 </td><td>-1.6094379</td></tr>\n",
       "\t<tr><td>4.7       </td><td>3.2       </td><td>1.3       </td><td>0.2       </td><td>setosa    </td><td>1.547563  </td><td>1.163151  </td><td>0.2623643 </td><td>-1.6094379</td></tr>\n",
       "\t<tr><td>4.6       </td><td>3.1       </td><td>1.5       </td><td>0.2       </td><td>setosa    </td><td>1.526056  </td><td>1.131402  </td><td>0.4054651 </td><td>-1.6094379</td></tr>\n",
       "\t<tr><td>5.0       </td><td>3.6       </td><td>1.4       </td><td>0.2       </td><td>setosa    </td><td>1.609438  </td><td>1.280934  </td><td>0.3364722 </td><td>-1.6094379</td></tr>\n",
       "\t<tr><td>5.4       </td><td>3.9       </td><td>1.7       </td><td>0.4       </td><td>setosa    </td><td>1.686399  </td><td>1.360977  </td><td>0.5306283 </td><td>-0.9162907</td></tr>\n",
       "</tbody>\n",
       "</table>\n"
      ],
      "text/latex": [
       "\\begin{tabular}{r|lllllllll}\n",
       " Sepal.Length & Sepal.Width & Petal.Length & Petal.Width & Species & Sepal.Length\\_log & Sepal.Width\\_log & Petal.Length\\_log & Petal.Width\\_log\\\\\n",
       "\\hline\n",
       "\t 5.1        & 3.5        & 1.4        & 0.2        & setosa     & 1.629241   & 1.252763   & 0.3364722  & -1.6094379\\\\\n",
       "\t 4.9        & 3.0        & 1.4        & 0.2        & setosa     & 1.589235   & 1.098612   & 0.3364722  & -1.6094379\\\\\n",
       "\t 4.7        & 3.2        & 1.3        & 0.2        & setosa     & 1.547563   & 1.163151   & 0.2623643  & -1.6094379\\\\\n",
       "\t 4.6        & 3.1        & 1.5        & 0.2        & setosa     & 1.526056   & 1.131402   & 0.4054651  & -1.6094379\\\\\n",
       "\t 5.0        & 3.6        & 1.4        & 0.2        & setosa     & 1.609438   & 1.280934   & 0.3364722  & -1.6094379\\\\\n",
       "\t 5.4        & 3.9        & 1.7        & 0.4        & setosa     & 1.686399   & 1.360977   & 0.5306283  & -0.9162907\\\\\n",
       "\\end{tabular}\n"
      ],
      "text/markdown": [
       "\n",
       "Sepal.Length | Sepal.Width | Petal.Length | Petal.Width | Species | Sepal.Length_log | Sepal.Width_log | Petal.Length_log | Petal.Width_log | \n",
       "|---|---|---|---|---|---|\n",
       "| 5.1        | 3.5        | 1.4        | 0.2        | setosa     | 1.629241   | 1.252763   | 0.3364722  | -1.6094379 | \n",
       "| 4.9        | 3.0        | 1.4        | 0.2        | setosa     | 1.589235   | 1.098612   | 0.3364722  | -1.6094379 | \n",
       "| 4.7        | 3.2        | 1.3        | 0.2        | setosa     | 1.547563   | 1.163151   | 0.2623643  | -1.6094379 | \n",
       "| 4.6        | 3.1        | 1.5        | 0.2        | setosa     | 1.526056   | 1.131402   | 0.4054651  | -1.6094379 | \n",
       "| 5.0        | 3.6        | 1.4        | 0.2        | setosa     | 1.609438   | 1.280934   | 0.3364722  | -1.6094379 | \n",
       "| 5.4        | 3.9        | 1.7        | 0.4        | setosa     | 1.686399   | 1.360977   | 0.5306283  | -0.9162907 | \n",
       "\n",
       "\n"
      ],
      "text/plain": [
       "  Sepal.Length Sepal.Width Petal.Length Petal.Width Species Sepal.Length_log\n",
       "1 5.1          3.5         1.4          0.2         setosa  1.629241        \n",
       "2 4.9          3.0         1.4          0.2         setosa  1.589235        \n",
       "3 4.7          3.2         1.3          0.2         setosa  1.547563        \n",
       "4 4.6          3.1         1.5          0.2         setosa  1.526056        \n",
       "5 5.0          3.6         1.4          0.2         setosa  1.609438        \n",
       "6 5.4          3.9         1.7          0.4         setosa  1.686399        \n",
       "  Sepal.Width_log Petal.Length_log Petal.Width_log\n",
       "1 1.252763        0.3364722        -1.6094379     \n",
       "2 1.098612        0.3364722        -1.6094379     \n",
       "3 1.163151        0.2623643        -1.6094379     \n",
       "4 1.131402        0.4054651        -1.6094379     \n",
       "5 1.280934        0.3364722        -1.6094379     \n",
       "6 1.360977        0.5306283        -0.9162907     "
      ]
     },
     "metadata": {},
     "output_type": "display_data"
    }
   ],
   "source": [
    "mutate_at(iris, vars(-Species), funs(log=log(.))) %>% head()"
   ]
  },
  {
   "cell_type": "code",
   "execution_count": 74,
   "metadata": {},
   "outputs": [
    {
     "data": {
      "text/html": [
       "<table>\n",
       "<thead><tr><th scope=col>Sepal.Length</th><th scope=col>Sepal.Width</th><th scope=col>Petal.Length</th><th scope=col>Petal.Width</th><th scope=col>Species</th></tr></thead>\n",
       "<tbody>\n",
       "\t<tr><td>1.629241  </td><td>1.252763  </td><td>0.3364722 </td><td>-1.6094379</td><td>setosa    </td></tr>\n",
       "\t<tr><td>1.589235  </td><td>1.098612  </td><td>0.3364722 </td><td>-1.6094379</td><td>setosa    </td></tr>\n",
       "\t<tr><td>1.547563  </td><td>1.163151  </td><td>0.2623643 </td><td>-1.6094379</td><td>setosa    </td></tr>\n",
       "\t<tr><td>1.526056  </td><td>1.131402  </td><td>0.4054651 </td><td>-1.6094379</td><td>setosa    </td></tr>\n",
       "\t<tr><td>1.609438  </td><td>1.280934  </td><td>0.3364722 </td><td>-1.6094379</td><td>setosa    </td></tr>\n",
       "\t<tr><td>1.686399  </td><td>1.360977  </td><td>0.5306283 </td><td>-0.9162907</td><td>setosa    </td></tr>\n",
       "</tbody>\n",
       "</table>\n"
      ],
      "text/latex": [
       "\\begin{tabular}{r|lllll}\n",
       " Sepal.Length & Sepal.Width & Petal.Length & Petal.Width & Species\\\\\n",
       "\\hline\n",
       "\t 1.629241   & 1.252763   & 0.3364722  & -1.6094379 & setosa    \\\\\n",
       "\t 1.589235   & 1.098612   & 0.3364722  & -1.6094379 & setosa    \\\\\n",
       "\t 1.547563   & 1.163151   & 0.2623643  & -1.6094379 & setosa    \\\\\n",
       "\t 1.526056   & 1.131402   & 0.4054651  & -1.6094379 & setosa    \\\\\n",
       "\t 1.609438   & 1.280934   & 0.3364722  & -1.6094379 & setosa    \\\\\n",
       "\t 1.686399   & 1.360977   & 0.5306283  & -0.9162907 & setosa    \\\\\n",
       "\\end{tabular}\n"
      ],
      "text/markdown": [
       "\n",
       "Sepal.Length | Sepal.Width | Petal.Length | Petal.Width | Species | \n",
       "|---|---|---|---|---|---|\n",
       "| 1.629241   | 1.252763   | 0.3364722  | -1.6094379 | setosa     | \n",
       "| 1.589235   | 1.098612   | 0.3364722  | -1.6094379 | setosa     | \n",
       "| 1.547563   | 1.163151   | 0.2623643  | -1.6094379 | setosa     | \n",
       "| 1.526056   | 1.131402   | 0.4054651  | -1.6094379 | setosa     | \n",
       "| 1.609438   | 1.280934   | 0.3364722  | -1.6094379 | setosa     | \n",
       "| 1.686399   | 1.360977   | 0.5306283  | -0.9162907 | setosa     | \n",
       "\n",
       "\n"
      ],
      "text/plain": [
       "  Sepal.Length Sepal.Width Petal.Length Petal.Width Species\n",
       "1 1.629241     1.252763    0.3364722    -1.6094379  setosa \n",
       "2 1.589235     1.098612    0.3364722    -1.6094379  setosa \n",
       "3 1.547563     1.163151    0.2623643    -1.6094379  setosa \n",
       "4 1.526056     1.131402    0.4054651    -1.6094379  setosa \n",
       "5 1.609438     1.280934    0.3364722    -1.6094379  setosa \n",
       "6 1.686399     1.360977    0.5306283    -0.9162907  setosa "
      ]
     },
     "metadata": {},
     "output_type": "display_data"
    }
   ],
   "source": [
    "mutate_at(iris, vars(-Species), log) %>% head()"
   ]
  },
  {
   "cell_type": "markdown",
   "metadata": {},
   "source": [
    "### add_column\n",
    "- mutate + 새로 생성한 변수 위치 지정 + 기존 변수명 사용하면 error\n",
    "- mutate는 기존 변수명 사용하면 덮어쓰기"
   ]
  },
  {
   "cell_type": "code",
   "execution_count": 12,
   "metadata": {},
   "outputs": [
    {
     "ename": "ERROR",
     "evalue": "Error in library(tibble): there is no package called 'tibble'\n",
     "output_type": "error",
     "traceback": [
      "Error in library(tibble): there is no package called 'tibble'\nTraceback:\n",
      "1. library(tibble)",
      "2. stop(txt, domain = NA)"
     ]
    }
   ],
   "source": [
    "library(tibble)"
   ]
  },
  {
   "cell_type": "code",
   "execution_count": 112,
   "metadata": {},
   "outputs": [
    {
     "ename": "ERROR",
     "evalue": "Error in add_column(., car_name = rownames(mtcars), .before = \"cyl\"): 함수 \"add_column\"를 찾을 수 없습니다\n",
     "output_type": "error",
     "traceback": [
      "Error in add_column(., car_name = rownames(mtcars), .before = \"cyl\"): 함수 \"add_column\"를 찾을 수 없습니다\nTraceback:\n",
      "1. mtcars %>% add_column(car_name = rownames(mtcars), .before = \"cyl\") %>% \n .     head()",
      "2. withVisible(eval(quote(`_fseq`(`_lhs`)), env, env))",
      "3. eval(quote(`_fseq`(`_lhs`)), env, env)",
      "4. eval(quote(`_fseq`(`_lhs`)), env, env)",
      "5. `_fseq`(`_lhs`)",
      "6. freduce(value, `_function_list`)",
      "7. function_list[[i]](value)"
     ]
    }
   ],
   "source": [
    "mtcars %>% add_column(car_name=rownames(mtcars), .before=\"cyl\") %>% head()"
   ]
  },
  {
   "cell_type": "markdown",
   "metadata": {},
   "source": [
    "### rename"
   ]
  },
  {
   "cell_type": "code",
   "execution_count": 14,
   "metadata": {},
   "outputs": [
    {
     "name": "stderr",
     "output_type": "stream",
     "text": [
      "Warning message:\n",
      "\"package 'dplyr' was built under R version 3.5.1\""
     ]
    },
    {
     "ename": "ERROR",
     "evalue": "Error: package 'dplyr' was installed by an R version with different internals; it needs to be reinstalled for use with this R version\n",
     "output_type": "error",
     "traceback": [
      "Error: package 'dplyr' was installed by an R version with different internals; it needs to be reinstalled for use with this R version\nTraceback:\n",
      "1. library(dplyr)",
      "2. testFeatures(features, pkgInfo, package, pkgpath)",
      "3. stop(gettextf(\"package %s was installed by an R version with different internals; it needs to be reinstalled for use with this R version\", \n .     sQuote(pkgname)), call. = FALSE, domain = NA)"
     ]
    }
   ],
   "source": [
    "library(dplyr)"
   ]
  },
  {
   "cell_type": "code",
   "execution_count": null,
   "metadata": {},
   "outputs": [],
   "source": [
    "rename(iris, Length=Sepal.Length) %>% head()"
   ]
  },
  {
   "cell_type": "code",
   "execution_count": 13,
   "metadata": {},
   "outputs": [
    {
     "ename": "ERROR",
     "evalue": "Error in iris %>% rownames_to_column(var = \"rowname\") %>% head(): 함수 \"%>%\"를 찾을 수 없습니다\n",
     "output_type": "error",
     "traceback": [
      "Error in iris %>% rownames_to_column(var = \"rowname\") %>% head(): 함수 \"%>%\"를 찾을 수 없습니다\nTraceback:\n"
     ]
    }
   ],
   "source": [
    "a <- iris %>% rownames_to_column(var=\"rowname\") %>% head()"
   ]
  },
  {
   "cell_type": "code",
   "execution_count": null,
   "metadata": {},
   "outputs": [],
   "source": [
    "has_rownames(a)"
   ]
  },
  {
   "cell_type": "code",
   "execution_count": null,
   "metadata": {},
   "outputs": [],
   "source": [
    "a<-remove_rownames(a)\n",
    "column_to_rownames(a, var=\"rowname\")"
   ]
  },
  {
   "cell_type": "code",
   "execution_count": null,
   "metadata": {},
   "outputs": [],
   "source": [
    "A<-select(iris, 1)\n",
    "B<-select(iris, 2)\n",
    "\n",
    "bind_cols(A,B) %>% head()"
   ]
  },
  {
   "cell_type": "code",
   "execution_count": null,
   "metadata": {},
   "outputs": [],
   "source": [
    "iris_rownames <- rownames_to_column(iris, var=\"rowname\")\n",
    "A<-slice(iris_rownames, 1:5)\n",
    "B<-slice(iris_rownames, 11:15)\n",
    "\n",
    "bind_rows(A,B) "
   ]
  },
  {
   "cell_type": "code",
   "execution_count": null,
   "metadata": {},
   "outputs": [],
   "source": []
  },
  {
   "cell_type": "code",
   "execution_count": null,
   "metadata": {},
   "outputs": [],
   "source": []
  },
  {
   "cell_type": "code",
   "execution_count": null,
   "metadata": {},
   "outputs": [],
   "source": []
  },
  {
   "cell_type": "code",
   "execution_count": null,
   "metadata": {},
   "outputs": [],
   "source": []
  },
  {
   "cell_type": "code",
   "execution_count": null,
   "metadata": {},
   "outputs": [],
   "source": []
  },
  {
   "cell_type": "code",
   "execution_count": null,
   "metadata": {},
   "outputs": [],
   "source": []
  },
  {
   "cell_type": "code",
   "execution_count": null,
   "metadata": {},
   "outputs": [],
   "source": []
  },
  {
   "cell_type": "code",
   "execution_count": null,
   "metadata": {},
   "outputs": [],
   "source": []
  },
  {
   "cell_type": "code",
   "execution_count": null,
   "metadata": {},
   "outputs": [],
   "source": []
  }
 ],
 "metadata": {
  "kernelspec": {
   "display_name": "R",
   "language": "R",
   "name": "ir"
  },
  "language_info": {
   "codemirror_mode": "r",
   "file_extension": ".r",
   "mimetype": "text/x-r-source",
   "name": "R",
   "pygments_lexer": "r",
   "version": "3.4.3"
  }
 },
 "nbformat": 4,
 "nbformat_minor": 2
}

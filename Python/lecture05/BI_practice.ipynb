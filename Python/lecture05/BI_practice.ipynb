{
 "cells": [
  {
   "cell_type": "markdown",
   "metadata": {},
   "source": [
    "### Human Genome Seqeunce"
   ]
  },
  {
   "cell_type": "markdown",
   "metadata": {},
   "source": [
    "#### 1)"
   ]
  },
  {
   "cell_type": "code",
   "execution_count": 5,
   "metadata": {},
   "outputs": [
    {
     "name": "stdout",
     "output_type": "stream",
     "text": [
      "28.7650001049\n"
     ]
    }
   ],
   "source": [
    "import time\n",
    "\n",
    "def dCounter():\n",
    "    tic = time.time()\n",
    "    file = open('chr21.fa', 'r')\n",
    "    dMonoDict = {}\n",
    "    dDiDict = {}\n",
    "    seq = file.read().replace(\"\\n\", \"\").upper()\n",
    "    #seq = seq.replace(\"N\", \"\") # N을 지우고 나머지만 갖고 작업하는 것은 안되는건가? N으로 분리되는 이유가 따로 있는 건가?\n",
    "    \n",
    "    for i in range(5, len(seq)-1):\n",
    "        sMono = seq[i]\n",
    "        sDi = seq[i:i+2]\n",
    "        \n",
    "        # Mononucleotide\n",
    "        try:\n",
    "            if \"N\" not in sMono:\n",
    "                dMonoDict[sMono] += 1\n",
    "        except KeyError:\n",
    "            dMonoDict[sMono] = 1\n",
    "            \n",
    "        # Dinucleotides\n",
    "        try:\n",
    "            if \"N\" not in sDi:\n",
    "                dDiDict[sDi] += 1\n",
    "        except KeyError:\n",
    "            dDiDict[sDi] = 1\n",
    "    \n",
    "    file.close()\n",
    "    toc = time.time()\n",
    "    print toc - tic\n",
    "    \n",
    "    return dDiDict, dMonoDict\n",
    "\n",
    "dDiDict, dMonoDict = dCounter()"
   ]
  },
  {
   "cell_type": "code",
   "execution_count": 62,
   "metadata": {},
   "outputs": [
    {
     "data": {
      "text/plain": [
       "{'A': 10422924, 'C': 7160212, 'G': 7174721, 'T': 10348785}"
      ]
     },
     "execution_count": 62,
     "metadata": {},
     "output_type": "execute_result"
    }
   ],
   "source": [
    "dMonoDict"
   ]
  },
  {
   "cell_type": "code",
   "execution_count": 63,
   "metadata": {},
   "outputs": [
    {
     "data": {
      "text/plain": [
       "{'AA': 3478029,\n",
       " 'AC': 1783676,\n",
       " 'AG': 2417672,\n",
       " 'AT': 2743546,\n",
       " 'CA': 2558856,\n",
       " 'CC': 1817797,\n",
       " 'CG': 380444,\n",
       " 'CT': 2403105,\n",
       " 'GA': 2080231,\n",
       " 'GC': 1496587,\n",
       " 'GG': 1824254,\n",
       " 'GT': 1773645,\n",
       " 'TA': 2305803,\n",
       " 'TC': 2062148,\n",
       " 'TG': 2552346,\n",
       " 'TT': 3428487}"
      ]
     },
     "execution_count": 63,
     "metadata": {},
     "output_type": "execute_result"
    }
   ],
   "source": [
    "dDiDict"
   ]
  },
  {
   "cell_type": "markdown",
   "metadata": {},
   "source": [
    "#### 2)"
   ]
  },
  {
   "cell_type": "code",
   "execution_count": 59,
   "metadata": {},
   "outputs": [
    {
     "data": {
      "text/plain": [
       "{'A': Decimal('0.30'),\n",
       " 'C': Decimal('0.20'),\n",
       " 'G': Decimal('0.20'),\n",
       " 'T': Decimal('0.29')}"
      ]
     },
     "execution_count": 59,
     "metadata": {},
     "output_type": "execute_result"
    }
   ],
   "source": [
    "from decimal import *\n",
    "\n",
    "getcontext().prec = 2\n",
    "monoSum = sum(dMonoDict.values())\n",
    "dMonoDictRatio = {key:Decimal(value)/monoSum for key, value in dMonoDict.items()}\n",
    "dMonoDictRatio"
   ]
  },
  {
   "cell_type": "code",
   "execution_count": 60,
   "metadata": {},
   "outputs": [
    {
     "data": {
      "text/plain": [
       "{'AA': Decimal('0.099'),\n",
       " 'AC': Decimal('0.051'),\n",
       " 'AG': Decimal('0.069'),\n",
       " 'AT': Decimal('0.078'),\n",
       " 'CA': Decimal('0.073'),\n",
       " 'CC': Decimal('0.052'),\n",
       " 'CG': Decimal('0.011'),\n",
       " 'CT': Decimal('0.068'),\n",
       " 'GA': Decimal('0.059'),\n",
       " 'GC': Decimal('0.043'),\n",
       " 'GG': Decimal('0.052'),\n",
       " 'GT': Decimal('0.051'),\n",
       " 'TA': Decimal('0.066'),\n",
       " 'TC': Decimal('0.059'),\n",
       " 'TG': Decimal('0.073'),\n",
       " 'TT': Decimal('0.098')}"
      ]
     },
     "execution_count": 60,
     "metadata": {},
     "output_type": "execute_result"
    }
   ],
   "source": [
    "getcontext().prec = 2\n",
    "diSum = sum(dDiDict.values())\n",
    "dDiDictRatio = {key:Decimal(value)/diSum for key, value in dDiDict.items()}\n",
    "dDiDictRatio"
   ]
  },
  {
   "cell_type": "code",
   "execution_count": 61,
   "metadata": {},
   "outputs": [
    {
     "data": {
      "text/plain": [
       "Decimal('0.029')"
      ]
     },
     "execution_count": 61,
     "metadata": {},
     "output_type": "execute_result"
    }
   ],
   "source": [
    "dMonoDictRatio['C']*dMonoDictRatio['T']/2"
   ]
  },
  {
   "cell_type": "code",
   "execution_count": null,
   "metadata": {},
   "outputs": [],
   "source": [
    "from itertools import permutations\n",
    "\n"
   ]
  }
 ],
 "metadata": {
  "kernelspec": {
   "display_name": "Python [conda env:py2]",
   "language": "python",
   "name": "conda-env-py2-py"
  },
  "language_info": {
   "codemirror_mode": {
    "name": "ipython",
    "version": 2
   },
   "file_extension": ".py",
   "mimetype": "text/x-python",
   "name": "python",
   "nbconvert_exporter": "python",
   "pygments_lexer": "ipython2",
   "version": "2.7.15"
  }
 },
 "nbformat": 4,
 "nbformat_minor": 2
}
